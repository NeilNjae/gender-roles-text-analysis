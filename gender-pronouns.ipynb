{
 "cells": [
  {
   "cell_type": "markdown",
   "metadata": {},
   "source": [
    "# Gender roles and pronouns in some 19th century novels by women\n",
    "\n",
    "This is essentially a replication of the text analysis by Julia Silge on [Gender roles with text mining and _n_-grams](https://juliasilge.com/blog/gender-pronouns/), which in turn was an attempt at a similar study to that contained in [Understanding Gender and Character Agency in the 19th Century Novel](http://culturalanalytics.org/2016/12/understanding-gender-and-character-agency-in-the-19th-century-novel/) by Matthew Jockers and Gabi Kirilloff. \n",
    "\n",
    "The idea is to get an insight into gender roles and activity in novels by looking at the verbs which are associated with men and women. The Jockers and Kirilloff study used the Stanford CoreNLP engine for detailed parsing of the text; Silge used simple word bigram analysis to find words that follow from gendered pronouns.\n",
    "\n",
    "This notebook does the same analysis as Silge, but using the tools available to TM351 students.\n",
    "\n",
    "The books were downloaded from [Project Gutenberg](http://onlinebooks.library.upenn.edu/webbin/gutbook/author?name=Austen%2C%20Jane%2C%201775-1817)"
   ]
  },
  {
   "cell_type": "code",
   "execution_count": 1,
   "metadata": {
    "collapsed": true,
    "run_control": {
     "read_only": false
    }
   },
   "outputs": [],
   "source": [
    "import re\n",
    "import numpy as np\n",
    "import pandas as pd\n",
    "import matplotlib.pyplot as plt\n",
    "\n",
    "%matplotlib inline"
   ]
  },
  {
   "cell_type": "markdown",
   "metadata": {},
   "source": [
    "## Read the books and get the bigrams\n",
    "\n",
    "First, define the books and the files they're in. This assumes you've already downloaded the books and stored them in the same directory as this notebook.\n",
    "\n",
    "In the books I used, I removed the Gutenberg-specific introduction and licence text at the start and end of the files. "
   ]
  },
  {
   "cell_type": "code",
   "execution_count": 87,
   "metadata": {
    "collapsed": true,
    "run_control": {
     "read_only": false
    }
   },
   "outputs": [],
   "source": [
    "austen_books_filenames = {\n",
    "    'Persuasion': '105.txt',\n",
    "    'Northanger Abbey': '121.txt',\n",
    "    'Pride and Prejudice': '1342.txt',\n",
    "    'Mansfield Park': '141.txt',\n",
    "    'Emma': '158-0.txt',\n",
    "    'Sense and Sensibility': '161.txt'\n",
    "}\n",
    "\n",
    "eliot_books_filenames = {\n",
    "    'Middlemarch': 'pg145.txt',\n",
    "    'Silas Marner': 'pg550.txt',\n",
    "    'The Mill on the Floss': '6688-0.txt'\n",
    "}\n",
    "\n",
    "bronte_books_filenames = {'Jane Eyre': 'pg1260.txt'}\n",
    "\n",
    "wilde_books_filenames = {'The Picture of Dorian Grey': '174.txt'}\n",
    "\n",
    "dickens_books_filenames = {'David Copperfield': '766-0.txt',\n",
    "                           'Great Expectations': '1400-0.txt',\n",
    "                           'The Mystery of Edwin Drood': '564-0.txt',\n",
    "                           'Hard Times': '786-0.txt'}"
   ]
  },
  {
   "cell_type": "code",
   "execution_count": 3,
   "metadata": {
    "run_control": {
     "read_only": false
    }
   },
   "outputs": [],
   "source": [
    "austen_books = {title: open(austen_books_filenames[title],  \n",
    "                            encoding='utf-8', errors='replace').read().lower()\n",
    "                for title in austen_books_filenames}"
   ]
  },
  {
   "cell_type": "markdown",
   "metadata": {},
   "source": [
    "Split a book into words, dropping punctuation and excessive whitespace.\n",
    "\n",
    "The stopwords are words to be dropped from the text. We'll use that feature later."
   ]
  },
  {
   "cell_type": "code",
   "execution_count": 4,
   "metadata": {
    "collapsed": true,
    "run_control": {
     "read_only": false
    },
    "scrolled": true
   },
   "outputs": [],
   "source": [
    "token_split_re = re.compile(r'\\W')\n",
    "\n",
    "def tokens(text, stopwords=None):\n",
    "    if stopwords is None: stopwords = []\n",
    "    return [token.strip('_') # underscore is used to signify italic, but we don't want that in this analysis\n",
    "            for token in re.split(token_split_re, text) \n",
    "            if token\n",
    "            if token not in stopwords]"
   ]
  },
  {
   "cell_type": "code",
   "execution_count": 5,
   "metadata": {
    "run_control": {
     "read_only": false
    },
    "scrolled": true
   },
   "outputs": [
    {
     "data": {
      "text/plain": [
       "['emma',\n",
       " 'by',\n",
       " 'jane',\n",
       " 'austen',\n",
       " 'volume',\n",
       " 'i',\n",
       " 'chapter',\n",
       " 'i',\n",
       " 'emma',\n",
       " 'woodhouse',\n",
       " 'handsome',\n",
       " 'clever',\n",
       " 'and',\n",
       " 'rich',\n",
       " 'with',\n",
       " 'a',\n",
       " 'comfortable',\n",
       " 'home',\n",
       " 'and',\n",
       " 'happy',\n",
       " 'disposition',\n",
       " 'seemed',\n",
       " 'to',\n",
       " 'unite',\n",
       " 'some',\n",
       " 'of',\n",
       " 'the',\n",
       " 'best',\n",
       " 'blessings',\n",
       " 'of']"
      ]
     },
     "execution_count": 5,
     "metadata": {},
     "output_type": "execute_result"
    }
   ],
   "source": [
    "tokens(austen_books['Emma'])[:30]"
   ]
  },
  {
   "cell_type": "markdown",
   "metadata": {},
   "source": [
    "How many words are there in Jane Austen's books?"
   ]
  },
  {
   "cell_type": "code",
   "execution_count": 6,
   "metadata": {
    "run_control": {
     "read_only": false
    }
   },
   "outputs": [
    {
     "data": {
      "text/plain": [
       "729460"
      ]
     },
     "execution_count": 6,
     "metadata": {},
     "output_type": "execute_result"
    }
   ],
   "source": [
    "austen_books_all_tokens = [token \n",
    "                           for book in austen_books \n",
    "                           for token in tokens(austen_books[book])]\n",
    "len(austen_books_all_tokens)"
   ]
  },
  {
   "cell_type": "markdown",
   "metadata": {},
   "source": [
    "Now find all the bigrams (ordered pairs of words)."
   ]
  },
  {
   "cell_type": "code",
   "execution_count": 7,
   "metadata": {
    "collapsed": true,
    "run_control": {
     "read_only": false
    }
   },
   "outputs": [],
   "source": [
    "def bigrams(tokens):\n",
    "    return [(tokens[i-1], tokens[i]) for i in range(1, len(tokens))]"
   ]
  },
  {
   "cell_type": "code",
   "execution_count": 8,
   "metadata": {
    "run_control": {
     "read_only": false
    },
    "scrolled": true
   },
   "outputs": [
    {
     "data": {
      "text/plain": [
       "[('emma', 'by'),\n",
       " ('by', 'jane'),\n",
       " ('jane', 'austen'),\n",
       " ('austen', 'volume'),\n",
       " ('volume', 'i'),\n",
       " ('i', 'chapter'),\n",
       " ('chapter', 'i'),\n",
       " ('i', 'emma'),\n",
       " ('emma', 'woodhouse'),\n",
       " ('woodhouse', 'handsome'),\n",
       " ('handsome', 'clever'),\n",
       " ('clever', 'and'),\n",
       " ('and', 'rich'),\n",
       " ('rich', 'with'),\n",
       " ('with', 'a'),\n",
       " ('a', 'comfortable'),\n",
       " ('comfortable', 'home'),\n",
       " ('home', 'and'),\n",
       " ('and', 'happy'),\n",
       " ('happy', 'disposition'),\n",
       " ('disposition', 'seemed'),\n",
       " ('seemed', 'to'),\n",
       " ('to', 'unite'),\n",
       " ('unite', 'some'),\n",
       " ('some', 'of'),\n",
       " ('of', 'the'),\n",
       " ('the', 'best'),\n",
       " ('best', 'blessings'),\n",
       " ('blessings', 'of'),\n",
       " ('of', 'existence')]"
      ]
     },
     "execution_count": 8,
     "metadata": {},
     "output_type": "execute_result"
    }
   ],
   "source": [
    "bigrams(tokens(austen_books['Emma']))[:30]"
   ]
  },
  {
   "cell_type": "markdown",
   "metadata": {},
   "source": [
    "# Find the most skewed gendered bigrams\n",
    "Gendered bigrams are those with 'he' or 'she' in the first position. I use a Pandas Series to store the gendered bigrams, then apply `value_counts()` to count how many of each there are."
   ]
  },
  {
   "cell_type": "code",
   "execution_count": 96,
   "metadata": {
    "run_control": {
     "read_only": false
    }
   },
   "outputs": [
    {
     "data": {
      "text/plain": [
       "(she, had)      334\n",
       "(she, was)      331\n",
       "(he, had)       242\n",
       "(he, was)       222\n",
       "(she, could)    172\n",
       "(she, is)       124\n",
       "(he, is)         99\n",
       "(she, would)     97\n",
       "(he, could)      96\n",
       "(he, would)      85\n",
       "dtype: int64"
      ]
     },
     "execution_count": 96,
     "metadata": {},
     "output_type": "execute_result"
    }
   ],
   "source": [
    "gendered_bigrams_books = {book: \n",
    "                    pd.Series(bigram\n",
    "                              for bigram in bigrams(tokens(austen_books[book]))\n",
    "                              if bigram[0] == 'he' or bigram[0] == 'she').value_counts()\n",
    "                   for book in austen_books}\n",
    "gendered_bigrams_books['Emma'].head(10)"
   ]
  },
  {
   "cell_type": "markdown",
   "metadata": {},
   "source": [
    "Wrap that in a function for easy reuse later."
   ]
  },
  {
   "cell_type": "code",
   "execution_count": 11,
   "metadata": {
    "run_control": {
     "read_only": false
    }
   },
   "outputs": [],
   "source": [
    "def gendered_bigrams(tokens): \n",
    "    return pd.Series(bigram\n",
    "                     for bigram in bigrams(tokens)\n",
    "                     if bigram[0] == 'he' or bigram[0] == 'she').value_counts()"
   ]
  },
  {
   "cell_type": "markdown",
   "metadata": {},
   "source": [
    "Austen's most common gendered bigrams, across all books."
   ]
  },
  {
   "cell_type": "code",
   "execution_count": 12,
   "metadata": {
    "run_control": {
     "read_only": false
    }
   },
   "outputs": [
    {
     "data": {
      "text/plain": [
       "(she, had)      1478\n",
       "(she, was)      1391\n",
       "(he, had)       1030\n",
       "(he, was)        895\n",
       "(she, could)     825\n",
       "dtype: int64"
      ]
     },
     "execution_count": 12,
     "metadata": {},
     "output_type": "execute_result"
    }
   ],
   "source": [
    "gendered_bigrams_austen = gendered_bigrams(austen_books_all_tokens)\n",
    "\n",
    "gendered_bigrams_austen.head()"
   ]
  },
  {
   "cell_type": "markdown",
   "metadata": {},
   "source": [
    "Count the number of occurrences of each gendered bigram, separated by gender. Store the results in a Pandas DataFrame. Again, wrap the processing in a function.\n",
    "\n",
    "I do this by converting the index of tuples into a multiindex, then using `unstack` to convert to a DataFrame.\n",
    "\n",
    "The `lower_limit` will limit the frame to only those rows with at least `lower_limit` bigrams, of either gender."
   ]
  },
  {
   "cell_type": "code",
   "execution_count": 13,
   "metadata": {
    "collapsed": true,
    "run_control": {
     "read_only": false
    }
   },
   "outputs": [],
   "source": [
    "def gender_counts(bigrams, lower_limit=0):\n",
    "    bigrams.index = pd.MultiIndex.from_tuples(bigrams.index)\n",
    "    bigrams.sort_index(inplace=True)\n",
    "    gcounts = bigrams.unstack(level=0)\n",
    "    gcounts.fillna(value=0, inplace=True)\n",
    "    return gcounts[gcounts.sum(axis=1) > lower_limit]"
   ]
  },
  {
   "cell_type": "code",
   "execution_count": 14,
   "metadata": {
    "run_control": {
     "read_only": false
    },
    "scrolled": true
   },
   "outputs": [
    {
     "data": {
      "text/html": [
       "<div>\n",
       "<table border=\"1\" class=\"dataframe\">\n",
       "  <thead>\n",
       "    <tr style=\"text-align: right;\">\n",
       "      <th></th>\n",
       "      <th>he</th>\n",
       "      <th>she</th>\n",
       "    </tr>\n",
       "  </thead>\n",
       "  <tbody>\n",
       "    <tr>\n",
       "      <th>a</th>\n",
       "      <td>5</td>\n",
       "      <td>7</td>\n",
       "    </tr>\n",
       "    <tr>\n",
       "      <th>able</th>\n",
       "      <td>0</td>\n",
       "      <td>1</td>\n",
       "    </tr>\n",
       "    <tr>\n",
       "      <th>abominates</th>\n",
       "      <td>1</td>\n",
       "      <td>0</td>\n",
       "    </tr>\n",
       "    <tr>\n",
       "      <th>absented</th>\n",
       "      <td>0</td>\n",
       "      <td>1</td>\n",
       "    </tr>\n",
       "    <tr>\n",
       "      <th>absolutely</th>\n",
       "      <td>3</td>\n",
       "      <td>1</td>\n",
       "    </tr>\n",
       "  </tbody>\n",
       "</table>\n",
       "</div>"
      ],
      "text/plain": [
       "            he  she\n",
       "a            5    7\n",
       "able         0    1\n",
       "abominates   1    0\n",
       "absented     0    1\n",
       "absolutely   3    1"
      ]
     },
     "execution_count": 14,
     "metadata": {},
     "output_type": "execute_result"
    }
   ],
   "source": [
    "gender_counts_austen = gender_counts(gendered_bigrams_austen) \n",
    "gender_counts_austen.head()"
   ]
  },
  {
   "cell_type": "markdown",
   "metadata": {},
   "source": [
    "These are the \"useful\" bigrams, those where the second word appears at least ten times."
   ]
  },
  {
   "cell_type": "code",
   "execution_count": 15,
   "metadata": {
    "run_control": {
     "read_only": false
    },
    "scrolled": true
   },
   "outputs": [
    {
     "data": {
      "text/html": [
       "<div>\n",
       "<table border=\"1\" class=\"dataframe\">\n",
       "  <thead>\n",
       "    <tr style=\"text-align: right;\">\n",
       "      <th></th>\n",
       "      <th>he</th>\n",
       "      <th>she</th>\n",
       "    </tr>\n",
       "  </thead>\n",
       "  <tbody>\n",
       "    <tr>\n",
       "      <th>a</th>\n",
       "      <td>5</td>\n",
       "      <td>7</td>\n",
       "    </tr>\n",
       "    <tr>\n",
       "      <th>acknowledged</th>\n",
       "      <td>6</td>\n",
       "      <td>9</td>\n",
       "    </tr>\n",
       "    <tr>\n",
       "      <th>added</th>\n",
       "      <td>31</td>\n",
       "      <td>51</td>\n",
       "    </tr>\n",
       "    <tr>\n",
       "      <th>always</th>\n",
       "      <td>11</td>\n",
       "      <td>16</td>\n",
       "    </tr>\n",
       "    <tr>\n",
       "      <th>and</th>\n",
       "      <td>42</td>\n",
       "      <td>43</td>\n",
       "    </tr>\n",
       "  </tbody>\n",
       "</table>\n",
       "</div>"
      ],
      "text/plain": [
       "              he  she\n",
       "a              5    7\n",
       "acknowledged   6    9\n",
       "added         31   51\n",
       "always        11   16\n",
       "and           42   43"
      ]
     },
     "execution_count": 15,
     "metadata": {},
     "output_type": "execute_result"
    }
   ],
   "source": [
    "useful_gender_counts_austen = gender_counts(gendered_bigrams_austen, lower_limit=10) \n",
    "useful_gender_counts_austen.head()"
   ]
  },
  {
   "cell_type": "code",
   "execution_count": 16,
   "metadata": {
    "run_control": {
     "read_only": false
    }
   },
   "outputs": [
    {
     "data": {
      "text/plain": [
       "328"
      ]
     },
     "execution_count": 16,
     "metadata": {},
     "output_type": "execute_result"
    }
   ],
   "source": [
    "useful_gender_counts_austen.size"
   ]
  },
  {
   "cell_type": "markdown",
   "metadata": {},
   "source": [
    "## Odds ratio: a quantification of the skew\n",
    "Now find the odds ratio, which is the ratio of probabilities of each word being preceeded by 'she' vs the probabilty of it being preceeded by 'he'. \n",
    "\n",
    "To keep the numbers in a sensible range, take the log of the ratio.\n",
    "\n",
    "Because not every work appears for both genders, we apply some 'smoothing' to avoid things blowing up. The smoothing in the original blog post was to add one to the number of occurrences of each genered bigram, and add one to the total number of bigrams for that gender. A slightly less bad version is to assume we've seen each possible bigram some small number of times (e.g. 0.1) and adust all the scores accordingly."
   ]
  },
  {
   "cell_type": "code",
   "execution_count": 17,
   "metadata": {
    "collapsed": true,
    "run_control": {
     "read_only": false
    },
    "scrolled": true
   },
   "outputs": [],
   "source": [
    "def find_ratios(gcounts, smoothing_add=0.1, smoothing_scale=None):\n",
    "    if smoothing_scale is None:\n",
    "        smoothing_scale = smoothing_add * gcounts.size\n",
    "\n",
    "    gender_ratio = pd.DataFrame(\n",
    "        {'she': (gcounts['she'] + smoothing_add) / (gcounts['she'].sum() + smoothing_scale),\n",
    "         'he': (gcounts['he'] + smoothing_add) / (gcounts['he'].sum() + smoothing_scale)}\n",
    "        )\n",
    "    gender_ratio['logratio'] = (gender_ratio.she / gender_ratio.he).apply(np.log2)\n",
    "    gender_ratio['abslogratio'] = gender_ratio.logratio.abs()\n",
    "    return gender_ratio"
   ]
  },
  {
   "cell_type": "markdown",
   "metadata": {},
   "source": [
    "This is Silge's method for finding the odds ratios. "
   ]
  },
  {
   "cell_type": "code",
   "execution_count": 18,
   "metadata": {
    "run_control": {
     "read_only": false
    }
   },
   "outputs": [
    {
     "data": {
      "text/html": [
       "<div>\n",
       "<table border=\"1\" class=\"dataframe\">\n",
       "  <thead>\n",
       "    <tr style=\"text-align: right;\">\n",
       "      <th></th>\n",
       "      <th>he</th>\n",
       "      <th>she</th>\n",
       "      <th>logratio</th>\n",
       "      <th>abslogratio</th>\n",
       "    </tr>\n",
       "  </thead>\n",
       "  <tbody>\n",
       "    <tr>\n",
       "      <th>have</th>\n",
       "      <td>0.003133</td>\n",
       "      <td>0.003154</td>\n",
       "      <td>0.009427</td>\n",
       "      <td>0.009427</td>\n",
       "    </tr>\n",
       "    <tr>\n",
       "      <th>always</th>\n",
       "      <td>0.001880</td>\n",
       "      <td>0.001915</td>\n",
       "      <td>0.026500</td>\n",
       "      <td>0.026500</td>\n",
       "    </tr>\n",
       "    <tr>\n",
       "      <th>remained</th>\n",
       "      <td>0.001097</td>\n",
       "      <td>0.001126</td>\n",
       "      <td>0.038573</td>\n",
       "      <td>0.038573</td>\n",
       "    </tr>\n",
       "    <tr>\n",
       "      <th>acknowledged</th>\n",
       "      <td>0.001097</td>\n",
       "      <td>0.001126</td>\n",
       "      <td>0.038573</td>\n",
       "      <td>0.038573</td>\n",
       "    </tr>\n",
       "    <tr>\n",
       "      <th>had</th>\n",
       "      <td>0.161523</td>\n",
       "      <td>0.166592</td>\n",
       "      <td>0.044578</td>\n",
       "      <td>0.044578</td>\n",
       "    </tr>\n",
       "    <tr>\n",
       "      <th>paused</th>\n",
       "      <td>0.001410</td>\n",
       "      <td>0.001464</td>\n",
       "      <td>0.054515</td>\n",
       "      <td>0.054515</td>\n",
       "    </tr>\n",
       "    <tr>\n",
       "      <th>would</th>\n",
       "      <td>0.042143</td>\n",
       "      <td>0.043816</td>\n",
       "      <td>0.056164</td>\n",
       "      <td>0.056164</td>\n",
       "    </tr>\n",
       "    <tr>\n",
       "      <th>loves</th>\n",
       "      <td>0.000940</td>\n",
       "      <td>0.000901</td>\n",
       "      <td>-0.060963</td>\n",
       "      <td>0.060963</td>\n",
       "    </tr>\n",
       "    <tr>\n",
       "      <th>a</th>\n",
       "      <td>0.000940</td>\n",
       "      <td>0.000901</td>\n",
       "      <td>-0.060963</td>\n",
       "      <td>0.060963</td>\n",
       "    </tr>\n",
       "    <tr>\n",
       "      <th>too</th>\n",
       "      <td>0.000940</td>\n",
       "      <td>0.000901</td>\n",
       "      <td>-0.060963</td>\n",
       "      <td>0.060963</td>\n",
       "    </tr>\n",
       "  </tbody>\n",
       "</table>\n",
       "</div>"
      ],
      "text/plain": [
       "                    he       she  logratio  abslogratio\n",
       "have          0.003133  0.003154  0.009427     0.009427\n",
       "always        0.001880  0.001915  0.026500     0.026500\n",
       "remained      0.001097  0.001126  0.038573     0.038573\n",
       "acknowledged  0.001097  0.001126  0.038573     0.038573\n",
       "had           0.161523  0.166592  0.044578     0.044578\n",
       "paused        0.001410  0.001464  0.054515     0.054515\n",
       "would         0.042143  0.043816  0.056164     0.056164\n",
       "loves         0.000940  0.000901 -0.060963     0.060963\n",
       "a             0.000940  0.000901 -0.060963     0.060963\n",
       "too           0.000940  0.000901 -0.060963     0.060963"
      ]
     },
     "execution_count": 18,
     "metadata": {},
     "output_type": "execute_result"
    }
   ],
   "source": [
    "gender_ratio_austen = find_ratios(useful_gender_counts_austen, smoothing_add=1, smoothing_scale=1)\n",
    "gender_ratio_austen.sort_values('abslogratio').head(10)"
   ]
  },
  {
   "cell_type": "markdown",
   "metadata": {},
   "source": [
    "This is using the smoothing method I prefer. Note that it gives slightly different results in some cases."
   ]
  },
  {
   "cell_type": "code",
   "execution_count": 19,
   "metadata": {
    "run_control": {
     "read_only": false
    }
   },
   "outputs": [
    {
     "data": {
      "text/html": [
       "<div>\n",
       "<table border=\"1\" class=\"dataframe\">\n",
       "  <thead>\n",
       "    <tr style=\"text-align: right;\">\n",
       "      <th></th>\n",
       "      <th>he</th>\n",
       "      <th>she</th>\n",
       "      <th>logratio</th>\n",
       "      <th>abslogratio</th>\n",
       "    </tr>\n",
       "  </thead>\n",
       "  <tbody>\n",
       "    <tr>\n",
       "      <th>a</th>\n",
       "      <td>0.000795</td>\n",
       "      <td>0.000797</td>\n",
       "      <td>0.003333</td>\n",
       "      <td>0.003333</td>\n",
       "    </tr>\n",
       "    <tr>\n",
       "      <th>when</th>\n",
       "      <td>0.000795</td>\n",
       "      <td>0.000797</td>\n",
       "      <td>0.003333</td>\n",
       "      <td>0.003333</td>\n",
       "    </tr>\n",
       "    <tr>\n",
       "      <th>too</th>\n",
       "      <td>0.000795</td>\n",
       "      <td>0.000797</td>\n",
       "      <td>0.003333</td>\n",
       "      <td>0.003333</td>\n",
       "    </tr>\n",
       "    <tr>\n",
       "      <th>loves</th>\n",
       "      <td>0.000795</td>\n",
       "      <td>0.000797</td>\n",
       "      <td>0.003333</td>\n",
       "      <td>0.003333</td>\n",
       "    </tr>\n",
       "    <tr>\n",
       "      <th>have</th>\n",
       "      <td>0.002977</td>\n",
       "      <td>0.003042</td>\n",
       "      <td>0.030731</td>\n",
       "      <td>0.030731</td>\n",
       "    </tr>\n",
       "    <tr>\n",
       "      <th>had</th>\n",
       "      <td>0.160582</td>\n",
       "      <td>0.165896</td>\n",
       "      <td>0.046971</td>\n",
       "      <td>0.046971</td>\n",
       "    </tr>\n",
       "    <tr>\n",
       "      <th>would</th>\n",
       "      <td>0.041794</td>\n",
       "      <td>0.043559</td>\n",
       "      <td>0.059668</td>\n",
       "      <td>0.059668</td>\n",
       "    </tr>\n",
       "    <tr>\n",
       "      <th>always</th>\n",
       "      <td>0.001730</td>\n",
       "      <td>0.001807</td>\n",
       "      <td>0.062512</td>\n",
       "      <td>0.062512</td>\n",
       "    </tr>\n",
       "    <tr>\n",
       "      <th>wrote</th>\n",
       "      <td>0.002042</td>\n",
       "      <td>0.001919</td>\n",
       "      <td>-0.089559</td>\n",
       "      <td>0.089559</td>\n",
       "    </tr>\n",
       "    <tr>\n",
       "      <th>then</th>\n",
       "      <td>0.003913</td>\n",
       "      <td>0.004164</td>\n",
       "      <td>0.089743</td>\n",
       "      <td>0.089743</td>\n",
       "    </tr>\n",
       "  </tbody>\n",
       "</table>\n",
       "</div>"
      ],
      "text/plain": [
       "              he       she  logratio  abslogratio\n",
       "a       0.000795  0.000797  0.003333     0.003333\n",
       "when    0.000795  0.000797  0.003333     0.003333\n",
       "too     0.000795  0.000797  0.003333     0.003333\n",
       "loves   0.000795  0.000797  0.003333     0.003333\n",
       "have    0.002977  0.003042  0.030731     0.030731\n",
       "had     0.160582  0.165896  0.046971     0.046971\n",
       "would   0.041794  0.043559  0.059668     0.059668\n",
       "always  0.001730  0.001807  0.062512     0.062512\n",
       "wrote   0.002042  0.001919 -0.089559     0.089559\n",
       "then    0.003913  0.004164  0.089743     0.089743"
      ]
     },
     "execution_count": 19,
     "metadata": {},
     "output_type": "execute_result"
    }
   ],
   "source": [
    "gender_ratio_austen = find_ratios(useful_gender_counts_austen)\n",
    "gender_ratio_austen.sort_values('abslogratio').head(10)"
   ]
  },
  {
   "cell_type": "markdown",
   "metadata": {},
   "source": [
    "These are the words with the greatest gender skew."
   ]
  },
  {
   "cell_type": "code",
   "execution_count": 20,
   "metadata": {
    "run_control": {
     "read_only": false
    },
    "scrolled": true
   },
   "outputs": [
    {
     "data": {
      "text/html": [
       "<div>\n",
       "<table border=\"1\" class=\"dataframe\">\n",
       "  <thead>\n",
       "    <tr style=\"text-align: right;\">\n",
       "      <th></th>\n",
       "      <th>he</th>\n",
       "      <th>she</th>\n",
       "      <th>logratio</th>\n",
       "      <th>abslogratio</th>\n",
       "    </tr>\n",
       "  </thead>\n",
       "  <tbody>\n",
       "    <tr>\n",
       "      <th>remembered</th>\n",
       "      <td>0.000016</td>\n",
       "      <td>0.001807</td>\n",
       "      <td>6.856928</td>\n",
       "      <td>6.856928</td>\n",
       "    </tr>\n",
       "    <tr>\n",
       "      <th>read</th>\n",
       "      <td>0.000327</td>\n",
       "      <td>0.002593</td>\n",
       "      <td>2.985443</td>\n",
       "      <td>2.985443</td>\n",
       "    </tr>\n",
       "    <tr>\n",
       "      <th>resolved</th>\n",
       "      <td>0.000327</td>\n",
       "      <td>0.001583</td>\n",
       "      <td>2.273245</td>\n",
       "      <td>2.273245</td>\n",
       "    </tr>\n",
       "    <tr>\n",
       "      <th>longed</th>\n",
       "      <td>0.000327</td>\n",
       "      <td>0.001470</td>\n",
       "      <td>2.167117</td>\n",
       "      <td>2.167117</td>\n",
       "    </tr>\n",
       "    <tr>\n",
       "      <th>stopped</th>\n",
       "      <td>0.002042</td>\n",
       "      <td>0.000460</td>\n",
       "      <td>-2.149860</td>\n",
       "      <td>2.149860</td>\n",
       "    </tr>\n",
       "    <tr>\n",
       "      <th>takes</th>\n",
       "      <td>0.001419</td>\n",
       "      <td>0.000348</td>\n",
       "      <td>-2.027587</td>\n",
       "      <td>2.027587</td>\n",
       "    </tr>\n",
       "    <tr>\n",
       "      <th>felt</th>\n",
       "      <td>0.005784</td>\n",
       "      <td>0.021336</td>\n",
       "      <td>1.883279</td>\n",
       "      <td>1.883279</td>\n",
       "    </tr>\n",
       "    <tr>\n",
       "      <th>heard</th>\n",
       "      <td>0.001574</td>\n",
       "      <td>0.005511</td>\n",
       "      <td>1.807379</td>\n",
       "      <td>1.807379</td>\n",
       "    </tr>\n",
       "    <tr>\n",
       "      <th>replied</th>\n",
       "      <td>0.009681</td>\n",
       "      <td>0.002817</td>\n",
       "      <td>-1.780895</td>\n",
       "      <td>1.780895</td>\n",
       "    </tr>\n",
       "    <tr>\n",
       "      <th>married</th>\n",
       "      <td>0.001574</td>\n",
       "      <td>0.000460</td>\n",
       "      <td>-1.774648</td>\n",
       "      <td>1.774648</td>\n",
       "    </tr>\n",
       "  </tbody>\n",
       "</table>\n",
       "</div>"
      ],
      "text/plain": [
       "                  he       she  logratio  abslogratio\n",
       "remembered  0.000016  0.001807  6.856928     6.856928\n",
       "read        0.000327  0.002593  2.985443     2.985443\n",
       "resolved    0.000327  0.001583  2.273245     2.273245\n",
       "longed      0.000327  0.001470  2.167117     2.167117\n",
       "stopped     0.002042  0.000460 -2.149860     2.149860\n",
       "takes       0.001419  0.000348 -2.027587     2.027587\n",
       "felt        0.005784  0.021336  1.883279     1.883279\n",
       "heard       0.001574  0.005511  1.807379     1.807379\n",
       "replied     0.009681  0.002817 -1.780895     1.780895\n",
       "married     0.001574  0.000460 -1.774648     1.774648"
      ]
     },
     "execution_count": 20,
     "metadata": {},
     "output_type": "execute_result"
    }
   ],
   "source": [
    "gender_ratio_austen.sort_values('abslogratio', ascending=False).head(10)"
   ]
  },
  {
   "cell_type": "markdown",
   "metadata": {},
   "source": [
    "# Plotting the most skewed words\n",
    "\n",
    "Extract the words with the greatest skew, put them in a new DataFrame, and give each one a number so we can get back to it in the plotting.\n",
    "\n",
    "The window says how many from each end of the list of gendered words, such as the 15 most female and the 15 most make.\n",
    "\n",
    "If we want to exclude words from plotting, pass in a list of stopwords."
   ]
  },
  {
   "cell_type": "code",
   "execution_count": 21,
   "metadata": {
    "collapsed": true,
    "run_control": {
     "read_only": false
    },
    "scrolled": true
   },
   "outputs": [],
   "source": [
    "def extract_plot_items(gratios_in, window=15, stopwords=None):\n",
    "    if stopwords:\n",
    "        gratios = gratios_in.drop(stopwords)\n",
    "    else:\n",
    "        gratios = gratios_in\n",
    "    plot_items = gratios.sort_values('logratio', ascending=False).head(window).append(\n",
    "        gratios.sort_values('logratio').head(window)).sort_values('logratio', ascending=False)\n",
    "    plot_items['index_pos'] = list(reversed(range(len(plot_items))))\n",
    "    return plot_items"
   ]
  },
  {
   "cell_type": "code",
   "execution_count": 22,
   "metadata": {
    "run_control": {
     "read_only": false
    }
   },
   "outputs": [
    {
     "data": {
      "text/plain": [
       "30"
      ]
     },
     "execution_count": 22,
     "metadata": {},
     "output_type": "execute_result"
    }
   ],
   "source": [
    "plot_items_austen = extract_plot_items(gender_ratio_austen)\n",
    "len(plot_items_austen)"
   ]
  },
  {
   "cell_type": "code",
   "execution_count": 23,
   "metadata": {
    "run_control": {
     "read_only": false
    },
    "scrolled": true
   },
   "outputs": [
    {
     "data": {
      "text/html": [
       "<div>\n",
       "<table border=\"1\" class=\"dataframe\">\n",
       "  <thead>\n",
       "    <tr style=\"text-align: right;\">\n",
       "      <th></th>\n",
       "      <th>he</th>\n",
       "      <th>she</th>\n",
       "      <th>logratio</th>\n",
       "      <th>abslogratio</th>\n",
       "      <th>index_pos</th>\n",
       "    </tr>\n",
       "  </thead>\n",
       "  <tbody>\n",
       "    <tr>\n",
       "      <th>remembered</th>\n",
       "      <td>0.000016</td>\n",
       "      <td>0.001807</td>\n",
       "      <td>6.856928</td>\n",
       "      <td>6.856928</td>\n",
       "      <td>29</td>\n",
       "    </tr>\n",
       "    <tr>\n",
       "      <th>read</th>\n",
       "      <td>0.000327</td>\n",
       "      <td>0.002593</td>\n",
       "      <td>2.985443</td>\n",
       "      <td>2.985443</td>\n",
       "      <td>28</td>\n",
       "    </tr>\n",
       "    <tr>\n",
       "      <th>resolved</th>\n",
       "      <td>0.000327</td>\n",
       "      <td>0.001583</td>\n",
       "      <td>2.273245</td>\n",
       "      <td>2.273245</td>\n",
       "      <td>27</td>\n",
       "    </tr>\n",
       "    <tr>\n",
       "      <th>longed</th>\n",
       "      <td>0.000327</td>\n",
       "      <td>0.001470</td>\n",
       "      <td>2.167117</td>\n",
       "      <td>2.167117</td>\n",
       "      <td>26</td>\n",
       "    </tr>\n",
       "    <tr>\n",
       "      <th>felt</th>\n",
       "      <td>0.005784</td>\n",
       "      <td>0.021336</td>\n",
       "      <td>1.883279</td>\n",
       "      <td>1.883279</td>\n",
       "      <td>25</td>\n",
       "    </tr>\n",
       "    <tr>\n",
       "      <th>heard</th>\n",
       "      <td>0.001574</td>\n",
       "      <td>0.005511</td>\n",
       "      <td>1.807379</td>\n",
       "      <td>1.807379</td>\n",
       "      <td>24</td>\n",
       "    </tr>\n",
       "    <tr>\n",
       "      <th>instantly</th>\n",
       "      <td>0.000483</td>\n",
       "      <td>0.001583</td>\n",
       "      <td>1.711366</td>\n",
       "      <td>1.711366</td>\n",
       "      <td>23</td>\n",
       "    </tr>\n",
       "    <tr>\n",
       "      <th>expected</th>\n",
       "      <td>0.000483</td>\n",
       "      <td>0.001583</td>\n",
       "      <td>1.711366</td>\n",
       "      <td>1.711366</td>\n",
       "      <td>22</td>\n",
       "    </tr>\n",
       "    <tr>\n",
       "      <th>dared</th>\n",
       "      <td>0.000795</td>\n",
       "      <td>0.002593</td>\n",
       "      <td>1.705335</td>\n",
       "      <td>1.705335</td>\n",
       "      <td>21</td>\n",
       "    </tr>\n",
       "    <tr>\n",
       "      <th>feared</th>\n",
       "      <td>0.000795</td>\n",
       "      <td>0.002480</td>\n",
       "      <td>1.641488</td>\n",
       "      <td>1.641488</td>\n",
       "      <td>20</td>\n",
       "    </tr>\n",
       "    <tr>\n",
       "      <th>ran</th>\n",
       "      <td>0.000327</td>\n",
       "      <td>0.001021</td>\n",
       "      <td>1.641488</td>\n",
       "      <td>1.641488</td>\n",
       "      <td>19</td>\n",
       "    </tr>\n",
       "    <tr>\n",
       "      <th>caught</th>\n",
       "      <td>0.000327</td>\n",
       "      <td>0.001021</td>\n",
       "      <td>1.641488</td>\n",
       "      <td>1.641488</td>\n",
       "      <td>18</td>\n",
       "    </tr>\n",
       "    <tr>\n",
       "      <th>cried</th>\n",
       "      <td>0.001730</td>\n",
       "      <td>0.005174</td>\n",
       "      <td>1.580218</td>\n",
       "      <td>1.580218</td>\n",
       "      <td>17</td>\n",
       "    </tr>\n",
       "    <tr>\n",
       "      <th>received</th>\n",
       "      <td>0.000795</td>\n",
       "      <td>0.002256</td>\n",
       "      <td>1.504638</td>\n",
       "      <td>1.504638</td>\n",
       "      <td>16</td>\n",
       "    </tr>\n",
       "    <tr>\n",
       "      <th>hardly</th>\n",
       "      <td>0.000795</td>\n",
       "      <td>0.002031</td>\n",
       "      <td>1.353432</td>\n",
       "      <td>1.353432</td>\n",
       "      <td>15</td>\n",
       "    </tr>\n",
       "    <tr>\n",
       "      <th>can</th>\n",
       "      <td>0.006251</td>\n",
       "      <td>0.002705</td>\n",
       "      <td>-1.208558</td>\n",
       "      <td>1.208558</td>\n",
       "      <td>14</td>\n",
       "    </tr>\n",
       "    <tr>\n",
       "      <th>scarcely</th>\n",
       "      <td>0.001107</td>\n",
       "      <td>0.000460</td>\n",
       "      <td>-1.266184</td>\n",
       "      <td>1.266184</td>\n",
       "      <td>13</td>\n",
       "    </tr>\n",
       "    <tr>\n",
       "      <th>expressed</th>\n",
       "      <td>0.001419</td>\n",
       "      <td>0.000572</td>\n",
       "      <td>-1.309358</td>\n",
       "      <td>1.309358</td>\n",
       "      <td>12</td>\n",
       "    </tr>\n",
       "    <tr>\n",
       "      <th>wants</th>\n",
       "      <td>0.001419</td>\n",
       "      <td>0.000572</td>\n",
       "      <td>-1.309358</td>\n",
       "      <td>1.309358</td>\n",
       "      <td>11</td>\n",
       "    </tr>\n",
       "    <tr>\n",
       "      <th>came</th>\n",
       "      <td>0.010928</td>\n",
       "      <td>0.004388</td>\n",
       "      <td>-1.316235</td>\n",
       "      <td>1.316235</td>\n",
       "      <td>10</td>\n",
       "    </tr>\n",
       "    <tr>\n",
       "      <th>certainly</th>\n",
       "      <td>0.003757</td>\n",
       "      <td>0.001470</td>\n",
       "      <td>-1.353455</td>\n",
       "      <td>1.353455</td>\n",
       "      <td>9</td>\n",
       "    </tr>\n",
       "    <tr>\n",
       "      <th>shook</th>\n",
       "      <td>0.001263</td>\n",
       "      <td>0.000460</td>\n",
       "      <td>-1.456287</td>\n",
       "      <td>1.456287</td>\n",
       "      <td>8</td>\n",
       "    </tr>\n",
       "    <tr>\n",
       "      <th>knows</th>\n",
       "      <td>0.003757</td>\n",
       "      <td>0.001246</td>\n",
       "      <td>-1.592462</td>\n",
       "      <td>1.592462</td>\n",
       "      <td>7</td>\n",
       "    </tr>\n",
       "    <tr>\n",
       "      <th>stopt</th>\n",
       "      <td>0.001419</td>\n",
       "      <td>0.000460</td>\n",
       "      <td>-1.624231</td>\n",
       "      <td>1.624231</td>\n",
       "      <td>6</td>\n",
       "    </tr>\n",
       "    <tr>\n",
       "      <th>seemed</th>\n",
       "      <td>0.007654</td>\n",
       "      <td>0.002480</td>\n",
       "      <td>-1.625665</td>\n",
       "      <td>1.625665</td>\n",
       "      <td>5</td>\n",
       "    </tr>\n",
       "    <tr>\n",
       "      <th>comes</th>\n",
       "      <td>0.003445</td>\n",
       "      <td>0.001021</td>\n",
       "      <td>-1.754097</td>\n",
       "      <td>1.754097</td>\n",
       "      <td>4</td>\n",
       "    </tr>\n",
       "    <tr>\n",
       "      <th>married</th>\n",
       "      <td>0.001574</td>\n",
       "      <td>0.000460</td>\n",
       "      <td>-1.774648</td>\n",
       "      <td>1.774648</td>\n",
       "      <td>3</td>\n",
       "    </tr>\n",
       "    <tr>\n",
       "      <th>replied</th>\n",
       "      <td>0.009681</td>\n",
       "      <td>0.002817</td>\n",
       "      <td>-1.780895</td>\n",
       "      <td>1.780895</td>\n",
       "      <td>2</td>\n",
       "    </tr>\n",
       "    <tr>\n",
       "      <th>takes</th>\n",
       "      <td>0.001419</td>\n",
       "      <td>0.000348</td>\n",
       "      <td>-2.027587</td>\n",
       "      <td>2.027587</td>\n",
       "      <td>1</td>\n",
       "    </tr>\n",
       "    <tr>\n",
       "      <th>stopped</th>\n",
       "      <td>0.002042</td>\n",
       "      <td>0.000460</td>\n",
       "      <td>-2.149860</td>\n",
       "      <td>2.149860</td>\n",
       "      <td>0</td>\n",
       "    </tr>\n",
       "  </tbody>\n",
       "</table>\n",
       "</div>"
      ],
      "text/plain": [
       "                  he       she  logratio  abslogratio  index_pos\n",
       "remembered  0.000016  0.001807  6.856928     6.856928         29\n",
       "read        0.000327  0.002593  2.985443     2.985443         28\n",
       "resolved    0.000327  0.001583  2.273245     2.273245         27\n",
       "longed      0.000327  0.001470  2.167117     2.167117         26\n",
       "felt        0.005784  0.021336  1.883279     1.883279         25\n",
       "heard       0.001574  0.005511  1.807379     1.807379         24\n",
       "instantly   0.000483  0.001583  1.711366     1.711366         23\n",
       "expected    0.000483  0.001583  1.711366     1.711366         22\n",
       "dared       0.000795  0.002593  1.705335     1.705335         21\n",
       "feared      0.000795  0.002480  1.641488     1.641488         20\n",
       "ran         0.000327  0.001021  1.641488     1.641488         19\n",
       "caught      0.000327  0.001021  1.641488     1.641488         18\n",
       "cried       0.001730  0.005174  1.580218     1.580218         17\n",
       "received    0.000795  0.002256  1.504638     1.504638         16\n",
       "hardly      0.000795  0.002031  1.353432     1.353432         15\n",
       "can         0.006251  0.002705 -1.208558     1.208558         14\n",
       "scarcely    0.001107  0.000460 -1.266184     1.266184         13\n",
       "expressed   0.001419  0.000572 -1.309358     1.309358         12\n",
       "wants       0.001419  0.000572 -1.309358     1.309358         11\n",
       "came        0.010928  0.004388 -1.316235     1.316235         10\n",
       "certainly   0.003757  0.001470 -1.353455     1.353455          9\n",
       "shook       0.001263  0.000460 -1.456287     1.456287          8\n",
       "knows       0.003757  0.001246 -1.592462     1.592462          7\n",
       "stopt       0.001419  0.000460 -1.624231     1.624231          6\n",
       "seemed      0.007654  0.002480 -1.625665     1.625665          5\n",
       "comes       0.003445  0.001021 -1.754097     1.754097          4\n",
       "married     0.001574  0.000460 -1.774648     1.774648          3\n",
       "replied     0.009681  0.002817 -1.780895     1.780895          2\n",
       "takes       0.001419  0.000348 -2.027587     2.027587          1\n",
       "stopped     0.002042  0.000460 -2.149860     2.149860          0"
      ]
     },
     "execution_count": 23,
     "metadata": {},
     "output_type": "execute_result"
    }
   ],
   "source": [
    "plot_items_austen"
   ]
  },
  {
   "cell_type": "markdown",
   "metadata": {},
   "source": [
    "A basic plot, just to see that we're doing something sensible."
   ]
  },
  {
   "cell_type": "code",
   "execution_count": 24,
   "metadata": {
    "run_control": {
     "read_only": false
    }
   },
   "outputs": [
    {
     "data": {
      "text/plain": [
       "<matplotlib.axes._subplots.AxesSubplot at 0xadb4780c>"
      ]
     },
     "execution_count": 24,
     "metadata": {},
     "output_type": "execute_result"
    },
    {
     "data": {
      "image/png": "[encoded data removed]",
      "text/plain": [
       "<matplotlib.figure.Figure at 0xadb5518c>"
      ]
     },
     "metadata": {},
     "output_type": "display_data"
    }
   ],
   "source": [
    "plot_items_austen.logratio.plot.barh()"
   ]
  },
  {
   "cell_type": "markdown",
   "metadata": {},
   "source": [
    "Plot the results, doing lots of matplotlib fiddling to make it look pretty."
   ]
  },
  {
   "cell_type": "code",
   "execution_count": 25,
   "metadata": {
    "collapsed": true,
    "run_control": {
     "read_only": false
    }
   },
   "outputs": [],
   "source": [
    "def gender_plot(plot_items, author):\n",
    "    plt.figure(figsize=(10,10))\n",
    "\n",
    "    plot_items['colour'] = plot_items.logratio.apply(lambda l: 'r' if l > 0 else 'b')\n",
    "\n",
    "    plt.plot(plot_items[plot_items.logratio > 0].logratio, \n",
    "             plot_items[plot_items.logratio > 0].index_pos, \n",
    "             marker='o', linestyle='', markersize=15.0, color='r')\n",
    "\n",
    "    plt.plot(plot_items[plot_items.logratio < 0].logratio, \n",
    "             plot_items[plot_items.logratio < 0].index_pos, \n",
    "             marker='o', linestyle='', markersize=15.0, color='b')\n",
    "\n",
    "    for _, r in plot_items.iterrows():\n",
    "        plt.plot([0, r.logratio], [r.index_pos, r.index_pos], color=r.colour, linestyle='-', linewidth=3)\n",
    "\n",
    "\n",
    "    words = plot_items.sort_values('index_pos').index\n",
    "    plt.yticks(np.arange(len(plot_items)), words)\n",
    "    plt.ylim([plot_items.index_pos.min() - 1, plot_items.index_pos.max() + 1])\n",
    "    \n",
    "    xts = list(range(int(min(plot_items.logratio)) - 1, int(max(plot_items.logratio)) + 2))\n",
    "    plt.xticks(xts, ['×{}'.format(2**i) for i in xts])\n",
    "#     plt.xticks([-2, -1, 0, 1, 2, 3, 4, 5, 6], ['×¼', '×½', 'same', '×2', '×4', '×8', '×16', '×32', '×64'])\n",
    "\n",
    "    plt.tick_params(axis='y', which='major', labelsize=16)\n",
    "    plt.tick_params(axis='x', which='major', labelsize=12)\n",
    "\n",
    "    plt.xlabel(\"Relative appearance after 'she' compared to 'he'\", fontsize=16)\n",
    "\n",
    "    plt.suptitle(\"Words paired with 'he' and 'she' in {}'s novels\".format(author), fontsize=20)\n",
    "    plt.title((\"Women {}, {}, and {} \".format(words[-1], words[-2], words[-3]) + \n",
    "              \"while men {}, {}, and {}\".format(words[0], words[1], words[2])) , fontsize=16)\n",
    "\n",
    "    plt.grid()\n",
    "\n",
    "    for spine in plt.gca().spines.values():\n",
    "        spine.set_visible(False)    \n",
    "\n",
    "    plt.show()"
   ]
  },
  {
   "cell_type": "code",
   "execution_count": 26,
   "metadata": {
    "run_control": {
     "read_only": false
    }
   },
   "outputs": [
    {
     "data": {
      "image/png": "[encoded data removed]",
      "text/plain": [
       "<matplotlib.figure.Figure at 0xad79e70c>"
      ]
     },
     "metadata": {},
     "output_type": "display_data"
    }
   ],
   "source": [
    "gender_plot(plot_items_austen, 'Jane Austen')"
   ]
  },
  {
   "cell_type": "markdown",
   "metadata": {},
   "source": [
    "This shows a clear difference. Men take direct, physical action while women are more passive and have more emotions."
   ]
  },
  {
   "cell_type": "markdown",
   "metadata": {},
   "source": [
    "# George Eliot\n",
    "Do the same with the books of George Eliot, another 19th century female novelist, reusing the functions defined above."
   ]
  },
  {
   "cell_type": "code",
   "execution_count": 27,
   "metadata": {
    "collapsed": true,
    "run_control": {
     "read_only": false
    }
   },
   "outputs": [],
   "source": [
    "eliot_books = {title: open(eliot_books_filenames[title],  \n",
    "                            encoding='utf-8', errors='replace').read().lower()\n",
    "                for title in eliot_books_filenames}"
   ]
  },
  {
   "cell_type": "code",
   "execution_count": 28,
   "metadata": {
    "run_control": {
     "read_only": false
    }
   },
   "outputs": [
    {
     "data": {
      "text/plain": [
       "612175"
      ]
     },
     "execution_count": 28,
     "metadata": {},
     "output_type": "execute_result"
    }
   ],
   "source": [
    "eliot_books_all_tokens = [token \n",
    "                          for book in eliot_books \n",
    "                          for token in tokens(eliot_books[book])]\n",
    "len(eliot_books_all_tokens)"
   ]
  },
  {
   "cell_type": "code",
   "execution_count": 29,
   "metadata": {
    "run_control": {
     "read_only": false
    }
   },
   "outputs": [
    {
     "data": {
      "text/plain": [
       "(he, had)       1424\n",
       "(he, was)       1038\n",
       "(she, had)       761\n",
       "(she, was)       705\n",
       "(he, would)      367\n",
       "(he, said)       357\n",
       "(he, could)      283\n",
       "(she, said)      239\n",
       "(he, is)         226\n",
       "(she, would)     209\n",
       "dtype: int64"
      ]
     },
     "execution_count": 29,
     "metadata": {},
     "output_type": "execute_result"
    }
   ],
   "source": [
    "gendered_bigrams_eliot = gendered_bigrams(eliot_books_all_tokens)\n",
    "gendered_bigrams_eliot.head(10)"
   ]
  },
  {
   "cell_type": "code",
   "execution_count": 30,
   "metadata": {
    "run_control": {
     "read_only": false
    },
    "scrolled": true
   },
   "outputs": [
    {
     "data": {
      "text/html": [
       "<div>\n",
       "<table border=\"1\" class=\"dataframe\">\n",
       "  <thead>\n",
       "    <tr style=\"text-align: right;\">\n",
       "      <th></th>\n",
       "      <th>he</th>\n",
       "      <th>she</th>\n",
       "    </tr>\n",
       "  </thead>\n",
       "  <tbody>\n",
       "    <tr>\n",
       "      <th>added</th>\n",
       "      <td>65</td>\n",
       "      <td>44</td>\n",
       "    </tr>\n",
       "    <tr>\n",
       "      <th>always</th>\n",
       "      <td>31</td>\n",
       "      <td>12</td>\n",
       "    </tr>\n",
       "    <tr>\n",
       "      <th>and</th>\n",
       "      <td>20</td>\n",
       "      <td>17</td>\n",
       "    </tr>\n",
       "    <tr>\n",
       "      <th>answered</th>\n",
       "      <td>22</td>\n",
       "      <td>15</td>\n",
       "    </tr>\n",
       "    <tr>\n",
       "      <th>asked</th>\n",
       "      <td>12</td>\n",
       "      <td>8</td>\n",
       "    </tr>\n",
       "  </tbody>\n",
       "</table>\n",
       "</div>"
      ],
      "text/plain": [
       "          he  she\n",
       "added     65   44\n",
       "always    31   12\n",
       "and       20   17\n",
       "answered  22   15\n",
       "asked     12    8"
      ]
     },
     "execution_count": 30,
     "metadata": {},
     "output_type": "execute_result"
    }
   ],
   "source": [
    "useful_gender_counts_eliot = gender_counts(gendered_bigrams_eliot, lower_limit=10) \n",
    "useful_gender_counts_eliot.head()"
   ]
  },
  {
   "cell_type": "markdown",
   "metadata": {},
   "source": [
    "Testing that we get the same results as with Silge's original post."
   ]
  },
  {
   "cell_type": "code",
   "execution_count": 31,
   "metadata": {
    "run_control": {
     "read_only": false
    }
   },
   "outputs": [
    {
     "data": {
      "text/html": [
       "<div>\n",
       "<table border=\"1\" class=\"dataframe\">\n",
       "  <thead>\n",
       "    <tr style=\"text-align: right;\">\n",
       "      <th></th>\n",
       "      <th>he</th>\n",
       "      <th>she</th>\n",
       "      <th>logratio</th>\n",
       "      <th>abslogratio</th>\n",
       "    </tr>\n",
       "  </thead>\n",
       "  <tbody>\n",
       "    <tr>\n",
       "      <th>herself</th>\n",
       "      <td>0.000136</td>\n",
       "      <td>0.005437</td>\n",
       "      <td>5.326106</td>\n",
       "      <td>5.326106</td>\n",
       "    </tr>\n",
       "    <tr>\n",
       "      <th>himself</th>\n",
       "      <td>0.003931</td>\n",
       "      <td>0.000227</td>\n",
       "      <td>-4.116838</td>\n",
       "      <td>4.116838</td>\n",
       "    </tr>\n",
       "    <tr>\n",
       "      <th>read</th>\n",
       "      <td>0.000542</td>\n",
       "      <td>0.002719</td>\n",
       "      <td>2.326106</td>\n",
       "      <td>2.326106</td>\n",
       "    </tr>\n",
       "    <tr>\n",
       "      <th>ran</th>\n",
       "      <td>0.000542</td>\n",
       "      <td>0.002266</td>\n",
       "      <td>2.063071</td>\n",
       "      <td>2.063071</td>\n",
       "    </tr>\n",
       "    <tr>\n",
       "      <th>left</th>\n",
       "      <td>0.002982</td>\n",
       "      <td>0.000906</td>\n",
       "      <td>-1.718288</td>\n",
       "      <td>1.718288</td>\n",
       "    </tr>\n",
       "    <tr>\n",
       "      <th>means</th>\n",
       "      <td>0.001491</td>\n",
       "      <td>0.000453</td>\n",
       "      <td>-1.718288</td>\n",
       "      <td>1.718288</td>\n",
       "    </tr>\n",
       "    <tr>\n",
       "      <th>shall</th>\n",
       "      <td>0.001491</td>\n",
       "      <td>0.000453</td>\n",
       "      <td>-1.718288</td>\n",
       "      <td>1.718288</td>\n",
       "    </tr>\n",
       "    <tr>\n",
       "      <th>needed</th>\n",
       "      <td>0.000949</td>\n",
       "      <td>0.002719</td>\n",
       "      <td>1.518751</td>\n",
       "      <td>1.518751</td>\n",
       "    </tr>\n",
       "    <tr>\n",
       "      <th>told</th>\n",
       "      <td>0.003117</td>\n",
       "      <td>0.001133</td>\n",
       "      <td>-1.460491</td>\n",
       "      <td>1.460491</td>\n",
       "    </tr>\n",
       "    <tr>\n",
       "      <th>married</th>\n",
       "      <td>0.000678</td>\n",
       "      <td>0.001812</td>\n",
       "      <td>1.419215</td>\n",
       "      <td>1.419215</td>\n",
       "    </tr>\n",
       "  </tbody>\n",
       "</table>\n",
       "</div>"
      ],
      "text/plain": [
       "               he       she  logratio  abslogratio\n",
       "herself  0.000136  0.005437  5.326106     5.326106\n",
       "himself  0.003931  0.000227 -4.116838     4.116838\n",
       "read     0.000542  0.002719  2.326106     2.326106\n",
       "ran      0.000542  0.002266  2.063071     2.063071\n",
       "left     0.002982  0.000906 -1.718288     1.718288\n",
       "means    0.001491  0.000453 -1.718288     1.718288\n",
       "shall    0.001491  0.000453 -1.718288     1.718288\n",
       "needed   0.000949  0.002719  1.518751     1.518751\n",
       "told     0.003117  0.001133 -1.460491     1.460491\n",
       "married  0.000678  0.001812  1.419215     1.419215"
      ]
     },
     "execution_count": 31,
     "metadata": {},
     "output_type": "execute_result"
    }
   ],
   "source": [
    "gender_ratio_eliot = find_ratios(useful_gender_counts_eliot, smoothing_add=1, smoothing_scale=1)\n",
    "gender_ratio_eliot.sort_values('abslogratio', ascending=False).head(10)"
   ]
  },
  {
   "cell_type": "code",
   "execution_count": 32,
   "metadata": {
    "run_control": {
     "read_only": false
    }
   },
   "outputs": [
    {
     "data": {
      "text/html": [
       "<div>\n",
       "<table border=\"1\" class=\"dataframe\">\n",
       "  <thead>\n",
       "    <tr style=\"text-align: right;\">\n",
       "      <th></th>\n",
       "      <th>he</th>\n",
       "      <th>she</th>\n",
       "      <th>logratio</th>\n",
       "      <th>abslogratio</th>\n",
       "    </tr>\n",
       "  </thead>\n",
       "  <tbody>\n",
       "    <tr>\n",
       "      <th>herself</th>\n",
       "      <td>0.000014</td>\n",
       "      <td>0.005202</td>\n",
       "      <td>8.589442</td>\n",
       "      <td>8.589442</td>\n",
       "    </tr>\n",
       "    <tr>\n",
       "      <th>himself</th>\n",
       "      <td>0.003795</td>\n",
       "      <td>0.000023</td>\n",
       "      <td>-7.396733</td>\n",
       "      <td>7.396733</td>\n",
       "    </tr>\n",
       "    <tr>\n",
       "      <th>read</th>\n",
       "      <td>0.000419</td>\n",
       "      <td>0.002500</td>\n",
       "      <td>2.577913</td>\n",
       "      <td>2.577913</td>\n",
       "    </tr>\n",
       "    <tr>\n",
       "      <th>shall</th>\n",
       "      <td>0.001364</td>\n",
       "      <td>0.000248</td>\n",
       "      <td>-2.461087</td>\n",
       "      <td>2.461087</td>\n",
       "    </tr>\n",
       "    <tr>\n",
       "      <th>means</th>\n",
       "      <td>0.001364</td>\n",
       "      <td>0.000248</td>\n",
       "      <td>-2.461087</td>\n",
       "      <td>2.461087</td>\n",
       "    </tr>\n",
       "    <tr>\n",
       "      <th>ran</th>\n",
       "      <td>0.000419</td>\n",
       "      <td>0.002049</td>\n",
       "      <td>2.291292</td>\n",
       "      <td>2.291292</td>\n",
       "    </tr>\n",
       "    <tr>\n",
       "      <th>left</th>\n",
       "      <td>0.002850</td>\n",
       "      <td>0.000698</td>\n",
       "      <td>-2.029210</td>\n",
       "      <td>2.029210</td>\n",
       "    </tr>\n",
       "    <tr>\n",
       "      <th>told</th>\n",
       "      <td>0.002985</td>\n",
       "      <td>0.000923</td>\n",
       "      <td>-1.692657</td>\n",
       "      <td>1.692657</td>\n",
       "    </tr>\n",
       "    <tr>\n",
       "      <th>dreaded</th>\n",
       "      <td>0.001499</td>\n",
       "      <td>0.000473</td>\n",
       "      <td>-1.664405</td>\n",
       "      <td>1.664405</td>\n",
       "    </tr>\n",
       "    <tr>\n",
       "      <th>needed</th>\n",
       "      <td>0.000824</td>\n",
       "      <td>0.002500</td>\n",
       "      <td>1.601372</td>\n",
       "      <td>1.601372</td>\n",
       "    </tr>\n",
       "  </tbody>\n",
       "</table>\n",
       "</div>"
      ],
      "text/plain": [
       "               he       she  logratio  abslogratio\n",
       "herself  0.000014  0.005202  8.589442     8.589442\n",
       "himself  0.003795  0.000023 -7.396733     7.396733\n",
       "read     0.000419  0.002500  2.577913     2.577913\n",
       "shall    0.001364  0.000248 -2.461087     2.461087\n",
       "means    0.001364  0.000248 -2.461087     2.461087\n",
       "ran      0.000419  0.002049  2.291292     2.291292\n",
       "left     0.002850  0.000698 -2.029210     2.029210\n",
       "told     0.002985  0.000923 -1.692657     1.692657\n",
       "dreaded  0.001499  0.000473 -1.664405     1.664405\n",
       "needed   0.000824  0.002500  1.601372     1.601372"
      ]
     },
     "execution_count": 32,
     "metadata": {},
     "output_type": "execute_result"
    }
   ],
   "source": [
    "gender_ratio_eliot = find_ratios(useful_gender_counts_eliot)\n",
    "gender_ratio_eliot.sort_values('abslogratio', ascending=False).head(10)"
   ]
  },
  {
   "cell_type": "markdown",
   "metadata": {},
   "source": [
    "This is where the stopwords come in useful. Let's exclude the very common phrases 'he himself' and 'her herself', which means \"he himself dreaded\" is converted to \"he dreaded\"."
   ]
  },
  {
   "cell_type": "code",
   "execution_count": 45,
   "metadata": {
    "run_control": {
     "read_only": false
    }
   },
   "outputs": [
    {
     "data": {
      "text/html": [
       "<div>\n",
       "<table border=\"1\" class=\"dataframe\">\n",
       "  <thead>\n",
       "    <tr style=\"text-align: right;\">\n",
       "      <th></th>\n",
       "      <th>he</th>\n",
       "      <th>she</th>\n",
       "      <th>logratio</th>\n",
       "      <th>abslogratio</th>\n",
       "    </tr>\n",
       "  </thead>\n",
       "  <tbody>\n",
       "    <tr>\n",
       "      <th>read</th>\n",
       "      <td>0.000418</td>\n",
       "      <td>0.002502</td>\n",
       "      <td>2.580082</td>\n",
       "      <td>2.580082</td>\n",
       "    </tr>\n",
       "    <tr>\n",
       "      <th>shall</th>\n",
       "      <td>0.001363</td>\n",
       "      <td>0.000248</td>\n",
       "      <td>-2.458917</td>\n",
       "      <td>2.458917</td>\n",
       "    </tr>\n",
       "    <tr>\n",
       "      <th>means</th>\n",
       "      <td>0.001363</td>\n",
       "      <td>0.000248</td>\n",
       "      <td>-2.458917</td>\n",
       "      <td>2.458917</td>\n",
       "    </tr>\n",
       "    <tr>\n",
       "      <th>ran</th>\n",
       "      <td>0.000418</td>\n",
       "      <td>0.002051</td>\n",
       "      <td>2.293461</td>\n",
       "      <td>2.293461</td>\n",
       "    </tr>\n",
       "    <tr>\n",
       "      <th>left</th>\n",
       "      <td>0.002847</td>\n",
       "      <td>0.000699</td>\n",
       "      <td>-2.027040</td>\n",
       "      <td>2.027040</td>\n",
       "    </tr>\n",
       "    <tr>\n",
       "      <th>dreaded</th>\n",
       "      <td>0.001633</td>\n",
       "      <td>0.000473</td>\n",
       "      <td>-1.786683</td>\n",
       "      <td>1.786683</td>\n",
       "    </tr>\n",
       "    <tr>\n",
       "      <th>told</th>\n",
       "      <td>0.002982</td>\n",
       "      <td>0.000924</td>\n",
       "      <td>-1.690488</td>\n",
       "      <td>1.690488</td>\n",
       "    </tr>\n",
       "    <tr>\n",
       "      <th>called</th>\n",
       "      <td>0.002173</td>\n",
       "      <td>0.000699</td>\n",
       "      <td>-1.636858</td>\n",
       "      <td>1.636858</td>\n",
       "    </tr>\n",
       "    <tr>\n",
       "      <th>needed</th>\n",
       "      <td>0.000823</td>\n",
       "      <td>0.002502</td>\n",
       "      <td>1.603541</td>\n",
       "      <td>1.603541</td>\n",
       "    </tr>\n",
       "    <tr>\n",
       "      <th>knows</th>\n",
       "      <td>0.002712</td>\n",
       "      <td>0.000924</td>\n",
       "      <td>-1.553637</td>\n",
       "      <td>1.553637</td>\n",
       "    </tr>\n",
       "  </tbody>\n",
       "</table>\n",
       "</div>"
      ],
      "text/plain": [
       "               he       she  logratio  abslogratio\n",
       "read     0.000418  0.002502  2.580082     2.580082\n",
       "shall    0.001363  0.000248 -2.458917     2.458917\n",
       "means    0.001363  0.000248 -2.458917     2.458917\n",
       "ran      0.000418  0.002051  2.293461     2.293461\n",
       "left     0.002847  0.000699 -2.027040     2.027040\n",
       "dreaded  0.001633  0.000473 -1.786683     1.786683\n",
       "told     0.002982  0.000924 -1.690488     1.690488\n",
       "called   0.002173  0.000699 -1.636858     1.636858\n",
       "needed   0.000823  0.002502  1.603541     1.603541\n",
       "knows    0.002712  0.000924 -1.553637     1.553637"
      ]
     },
     "execution_count": 45,
     "metadata": {},
     "output_type": "execute_result"
    }
   ],
   "source": [
    "eliot_books_all_tokens = [token \n",
    "                          for book in eliot_books \n",
    "                          for token in tokens(eliot_books[book], stopwords=['himself', 'herself'])]\n",
    "gendered_bigrams_eliot = gendered_bigrams(eliot_books_all_tokens)\n",
    "useful_gender_counts_eliot = gender_counts(gendered_bigrams_eliot, lower_limit=10) \n",
    "gender_ratio_eliot = find_ratios(useful_gender_counts_eliot)\n",
    "gender_ratio_eliot.sort_values('abslogratio', ascending=False).head(10)"
   ]
  },
  {
   "cell_type": "code",
   "execution_count": 46,
   "metadata": {
    "run_control": {
     "read_only": false
    }
   },
   "outputs": [],
   "source": [
    "# eliot_books_all_tokens = [token \n",
    "#                           for book in eliot_books \n",
    "#                           for token in tokens(eliot_books[book], \n",
    "#                                               stopwords=['himself', 'herself',\n",
    "#                                                         'shall', 'should', 'may', 'might',\n",
    "#                                                          'will', 'would', 'can', 'could'])]\n",
    "# gendered_bigrams_eliot = gendered_bigrams(eliot_books_all_tokens)\n",
    "# useful_gender_counts_eliot = gender_counts(gendered_bigrams_eliot, lower_limit=10) \n",
    "# gender_ratio_eliot = find_ratios(useful_gender_counts_eliot)\n",
    "# gender_ratio_eliot.sort_values('abslogratio', ascending=False).head(10)"
   ]
  },
  {
   "cell_type": "code",
   "execution_count": 47,
   "metadata": {
    "run_control": {
     "read_only": false
    },
    "scrolled": true
   },
   "outputs": [
    {
     "data": {
      "text/plain": [
       "30"
      ]
     },
     "execution_count": 47,
     "metadata": {},
     "output_type": "execute_result"
    }
   ],
   "source": [
    "plot_items_eliot = extract_plot_items(gender_ratio_eliot, window=15)\n",
    "len(plot_items_eliot)"
   ]
  },
  {
   "cell_type": "code",
   "execution_count": 48,
   "metadata": {
    "run_control": {
     "read_only": false
    },
    "scrolled": false
   },
   "outputs": [
    {
     "data": {
      "image/png": "[encoded data removed]",
      "text/plain": [
       "<matplotlib.figure.Figure at 0xaa9c59ac>"
      ]
     },
     "metadata": {},
     "output_type": "display_data"
    }
   ],
   "source": [
    "gender_plot(plot_items_eliot, 'George Eliot')"
   ]
  },
  {
   "cell_type": "markdown",
   "metadata": {},
   "source": [
    "Again, women are associated passive verbs while men are associated with action and speaking."
   ]
  },
  {
   "cell_type": "markdown",
   "metadata": {},
   "source": [
    "# Charlotte Brontë's book, _Jane Eyre_\n",
    "This was called out in the original paper fitting the pattern less well, with women taking more active roles and men having more emotions. Does this pan out?"
   ]
  },
  {
   "cell_type": "code",
   "execution_count": 57,
   "metadata": {
    "collapsed": true,
    "run_control": {
     "read_only": false
    }
   },
   "outputs": [],
   "source": [
    "bronte_books = {title: open(bronte_books_filenames[title],  \n",
    "                            encoding='utf-8', errors='replace').read().lower()\n",
    "                for title in bronte_books_filenames}"
   ]
  },
  {
   "cell_type": "code",
   "execution_count": 62,
   "metadata": {
    "run_control": {
     "read_only": false
    }
   },
   "outputs": [
    {
     "data": {
      "text/plain": [
       "189448"
      ]
     },
     "execution_count": 62,
     "metadata": {},
     "output_type": "execute_result"
    }
   ],
   "source": [
    "bronte_books_all_tokens = [token \n",
    "                           for book in bronte_books \n",
    "                           for token in tokens(bronte_books[book])]\n",
    "len(bronte_books_all_tokens)"
   ]
  },
  {
   "cell_type": "code",
   "execution_count": 63,
   "metadata": {
    "run_control": {
     "read_only": false
    }
   },
   "outputs": [
    {
     "data": {
      "text/plain": [
       "(he, was)      155\n",
       "(she, was)     154\n",
       "(he, had)      132\n",
       "(she, had)     122\n",
       "(he, said)      96\n",
       "(he, is)        88\n",
       "(he, would)     83\n",
       "(she, is)       79\n",
       "(she, said)     57\n",
       "(he, has)       44\n",
       "dtype: int64"
      ]
     },
     "execution_count": 63,
     "metadata": {},
     "output_type": "execute_result"
    }
   ],
   "source": [
    "gendered_bigrams_bronte = gendered_bigrams(bronte_books_all_tokens)\n",
    "gendered_bigrams_bronte[:10]"
   ]
  },
  {
   "cell_type": "code",
   "execution_count": 64,
   "metadata": {
    "run_control": {
     "read_only": false
    },
    "scrolled": false
   },
   "outputs": [
    {
     "data": {
      "text/html": [
       "<div>\n",
       "<table border=\"1\" class=\"dataframe\">\n",
       "  <thead>\n",
       "    <tr style=\"text-align: right;\">\n",
       "      <th></th>\n",
       "      <th>he</th>\n",
       "      <th>she</th>\n",
       "    </tr>\n",
       "  </thead>\n",
       "  <tbody>\n",
       "    <tr>\n",
       "      <th>added</th>\n",
       "      <td>10</td>\n",
       "      <td>6</td>\n",
       "    </tr>\n",
       "    <tr>\n",
       "      <th>again</th>\n",
       "      <td>7</td>\n",
       "      <td>9</td>\n",
       "    </tr>\n",
       "    <tr>\n",
       "      <th>and</th>\n",
       "      <td>21</td>\n",
       "      <td>11</td>\n",
       "    </tr>\n",
       "    <tr>\n",
       "      <th>answered</th>\n",
       "      <td>14</td>\n",
       "      <td>6</td>\n",
       "    </tr>\n",
       "    <tr>\n",
       "      <th>asked</th>\n",
       "      <td>31</td>\n",
       "      <td>12</td>\n",
       "    </tr>\n",
       "  </tbody>\n",
       "</table>\n",
       "</div>"
      ],
      "text/plain": [
       "          he  she\n",
       "added     10    6\n",
       "again      7    9\n",
       "and       21   11\n",
       "answered  14    6\n",
       "asked     31   12"
      ]
     },
     "execution_count": 64,
     "metadata": {},
     "output_type": "execute_result"
    }
   ],
   "source": [
    "useful_gender_counts_bronte = gender_counts(gendered_bigrams_bronte, lower_limit=10) \n",
    "useful_gender_counts_bronte.head()"
   ]
  },
  {
   "cell_type": "code",
   "execution_count": 65,
   "metadata": {
    "run_control": {
     "read_only": false
    },
    "scrolled": true
   },
   "outputs": [
    {
     "data": {
      "text/html": [
       "<div>\n",
       "<table border=\"1\" class=\"dataframe\">\n",
       "  <thead>\n",
       "    <tr style=\"text-align: right;\">\n",
       "      <th></th>\n",
       "      <th>he</th>\n",
       "      <th>she</th>\n",
       "      <th>logratio</th>\n",
       "      <th>abslogratio</th>\n",
       "    </tr>\n",
       "  </thead>\n",
       "  <tbody>\n",
       "    <tr>\n",
       "      <th>shall</th>\n",
       "      <td>0.002629</td>\n",
       "      <td>0.012429</td>\n",
       "      <td>2.241019</td>\n",
       "      <td>2.241019</td>\n",
       "    </tr>\n",
       "    <tr>\n",
       "      <th>s</th>\n",
       "      <td>0.004382</td>\n",
       "      <td>0.018079</td>\n",
       "      <td>2.044621</td>\n",
       "      <td>2.044621</td>\n",
       "    </tr>\n",
       "    <tr>\n",
       "      <th>paused</th>\n",
       "      <td>0.011394</td>\n",
       "      <td>0.004520</td>\n",
       "      <td>-1.333890</td>\n",
       "      <td>1.333890</td>\n",
       "    </tr>\n",
       "    <tr>\n",
       "      <th>made</th>\n",
       "      <td>0.007888</td>\n",
       "      <td>0.019209</td>\n",
       "      <td>1.284087</td>\n",
       "      <td>1.284087</td>\n",
       "    </tr>\n",
       "    <tr>\n",
       "      <th>stood</th>\n",
       "      <td>0.013146</td>\n",
       "      <td>0.005650</td>\n",
       "      <td>-1.218413</td>\n",
       "      <td>1.218413</td>\n",
       "    </tr>\n",
       "    <tr>\n",
       "      <th>asked</th>\n",
       "      <td>0.028046</td>\n",
       "      <td>0.014689</td>\n",
       "      <td>-0.933011</td>\n",
       "      <td>0.933011</td>\n",
       "    </tr>\n",
       "    <tr>\n",
       "      <th>were</th>\n",
       "      <td>0.006135</td>\n",
       "      <td>0.011299</td>\n",
       "      <td>0.881123</td>\n",
       "      <td>0.881123</td>\n",
       "    </tr>\n",
       "    <tr>\n",
       "      <th>can</th>\n",
       "      <td>0.007011</td>\n",
       "      <td>0.012429</td>\n",
       "      <td>0.825981</td>\n",
       "      <td>0.825981</td>\n",
       "    </tr>\n",
       "    <tr>\n",
       "      <th>spoke</th>\n",
       "      <td>0.007888</td>\n",
       "      <td>0.004520</td>\n",
       "      <td>-0.803376</td>\n",
       "      <td>0.803376</td>\n",
       "    </tr>\n",
       "    <tr>\n",
       "      <th>took</th>\n",
       "      <td>0.017528</td>\n",
       "      <td>0.010169</td>\n",
       "      <td>-0.785454</td>\n",
       "      <td>0.785454</td>\n",
       "    </tr>\n",
       "  </tbody>\n",
       "</table>\n",
       "</div>"
      ],
      "text/plain": [
       "              he       she  logratio  abslogratio\n",
       "shall   0.002629  0.012429  2.241019     2.241019\n",
       "s       0.004382  0.018079  2.044621     2.044621\n",
       "paused  0.011394  0.004520 -1.333890     1.333890\n",
       "made    0.007888  0.019209  1.284087     1.284087\n",
       "stood   0.013146  0.005650 -1.218413     1.218413\n",
       "asked   0.028046  0.014689 -0.933011     0.933011\n",
       "were    0.006135  0.011299  0.881123     0.881123\n",
       "can     0.007011  0.012429  0.825981     0.825981\n",
       "spoke   0.007888  0.004520 -0.803376     0.803376\n",
       "took    0.017528  0.010169 -0.785454     0.785454"
      ]
     },
     "execution_count": 65,
     "metadata": {},
     "output_type": "execute_result"
    }
   ],
   "source": [
    "gender_ratio_bronte = find_ratios(useful_gender_counts_bronte, smoothing_add=1, smoothing_scale=1)\n",
    "gender_ratio_bronte.sort_values('abslogratio', ascending=False).head(10)"
   ]
  },
  {
   "cell_type": "code",
   "execution_count": 66,
   "metadata": {
    "run_control": {
     "read_only": false
    },
    "scrolled": true
   },
   "outputs": [
    {
     "data": {
      "text/html": [
       "<div>\n",
       "<table border=\"1\" class=\"dataframe\">\n",
       "  <thead>\n",
       "    <tr style=\"text-align: right;\">\n",
       "      <th></th>\n",
       "      <th>he</th>\n",
       "      <th>she</th>\n",
       "      <th>logratio</th>\n",
       "      <th>abslogratio</th>\n",
       "    </tr>\n",
       "  </thead>\n",
       "  <tbody>\n",
       "    <tr>\n",
       "      <th>shall</th>\n",
       "      <td>0.001826</td>\n",
       "      <td>0.011298</td>\n",
       "      <td>2.629181</td>\n",
       "      <td>2.629181</td>\n",
       "    </tr>\n",
       "    <tr>\n",
       "      <th>s</th>\n",
       "      <td>0.003565</td>\n",
       "      <td>0.016890</td>\n",
       "      <td>2.244140</td>\n",
       "      <td>2.244140</td>\n",
       "    </tr>\n",
       "    <tr>\n",
       "      <th>paused</th>\n",
       "      <td>0.010522</td>\n",
       "      <td>0.003468</td>\n",
       "      <td>-1.601380</td>\n",
       "      <td>1.601380</td>\n",
       "    </tr>\n",
       "    <tr>\n",
       "      <th>stood</th>\n",
       "      <td>0.012261</td>\n",
       "      <td>0.004586</td>\n",
       "      <td>-1.418712</td>\n",
       "      <td>1.418712</td>\n",
       "    </tr>\n",
       "    <tr>\n",
       "      <th>made</th>\n",
       "      <td>0.007043</td>\n",
       "      <td>0.018009</td>\n",
       "      <td>1.354354</td>\n",
       "      <td>1.354354</td>\n",
       "    </tr>\n",
       "    <tr>\n",
       "      <th>spoke</th>\n",
       "      <td>0.007043</td>\n",
       "      <td>0.003468</td>\n",
       "      <td>-1.022367</td>\n",
       "      <td>1.022367</td>\n",
       "    </tr>\n",
       "    <tr>\n",
       "      <th>asked</th>\n",
       "      <td>0.027043</td>\n",
       "      <td>0.013535</td>\n",
       "      <td>-0.998620</td>\n",
       "      <td>0.998620</td>\n",
       "    </tr>\n",
       "    <tr>\n",
       "      <th>were</th>\n",
       "      <td>0.005304</td>\n",
       "      <td>0.010179</td>\n",
       "      <td>0.940344</td>\n",
       "      <td>0.940344</td>\n",
       "    </tr>\n",
       "    <tr>\n",
       "      <th>saw</th>\n",
       "      <td>0.008783</td>\n",
       "      <td>0.004586</td>\n",
       "      <td>-0.937372</td>\n",
       "      <td>0.937372</td>\n",
       "    </tr>\n",
       "    <tr>\n",
       "      <th>took</th>\n",
       "      <td>0.016609</td>\n",
       "      <td>0.009060</td>\n",
       "      <td>-0.874292</td>\n",
       "      <td>0.874292</td>\n",
       "    </tr>\n",
       "  </tbody>\n",
       "</table>\n",
       "</div>"
      ],
      "text/plain": [
       "              he       she  logratio  abslogratio\n",
       "shall   0.001826  0.011298  2.629181     2.629181\n",
       "s       0.003565  0.016890  2.244140     2.244140\n",
       "paused  0.010522  0.003468 -1.601380     1.601380\n",
       "stood   0.012261  0.004586 -1.418712     1.418712\n",
       "made    0.007043  0.018009  1.354354     1.354354\n",
       "spoke   0.007043  0.003468 -1.022367     1.022367\n",
       "asked   0.027043  0.013535 -0.998620     0.998620\n",
       "were    0.005304  0.010179  0.940344     0.940344\n",
       "saw     0.008783  0.004586 -0.937372     0.937372\n",
       "took    0.016609  0.009060 -0.874292     0.874292"
      ]
     },
     "execution_count": 66,
     "metadata": {},
     "output_type": "execute_result"
    }
   ],
   "source": [
    "gender_ratio_bronte = find_ratios(useful_gender_counts_bronte)\n",
    "gender_ratio_bronte.sort_values('abslogratio', ascending=False).head(10)"
   ]
  },
  {
   "cell_type": "code",
   "execution_count": 67,
   "metadata": {
    "run_control": {
     "read_only": false
    },
    "scrolled": true
   },
   "outputs": [
    {
     "data": {
      "text/plain": [
       "30"
      ]
     },
     "execution_count": 67,
     "metadata": {},
     "output_type": "execute_result"
    }
   ],
   "source": [
    "plot_items_bronte = extract_plot_items(gender_ratio_bronte, window=15)\n",
    "len(plot_items_bronte)"
   ]
  },
  {
   "cell_type": "code",
   "execution_count": 68,
   "metadata": {
    "run_control": {
     "read_only": false
    },
    "scrolled": false
   },
   "outputs": [
    {
     "data": {
      "image/png": "[encoded data removed]",
      "text/plain": [
       "<matplotlib.figure.Figure at 0xad852f4c>"
      ]
     },
     "metadata": {},
     "output_type": "display_data"
    }
   ],
   "source": [
    "gender_plot(plot_items_bronte, 'Charlotte Brontë')"
   ]
  },
  {
   "cell_type": "markdown",
   "metadata": {
    "collapsed": true,
    "run_control": {
     "read_only": false
    }
   },
   "source": [
    "Yes, many of the verbs after 'she' are not related to emotions, while men are more passive, standing and pausing.\n",
    "\n",
    "'s' is an interesting token. It appears in direct speech, as \"she's …\" and, rarely, \"he's …\", so is an abbreviation of \"is\", which isn't reported as having gendered usage. Quite why women are referred to in this way in speech is something for another investigation."
   ]
  },
  {
   "cell_type": "markdown",
   "metadata": {},
   "source": [
    "# Now with Oscar Wilde's book, _The Picture of Dorian Grey_\n",
    "\n",
    "Not in Silge's article, but in the original paper, _The Picture of Dorian Grey_ was called out as another gender-swap, with women being active and men being emotional."
   ]
  },
  {
   "cell_type": "code",
   "execution_count": 75,
   "metadata": {
    "run_control": {
     "read_only": false
    }
   },
   "outputs": [],
   "source": [
    "wilde_books = {title: open(wilde_books_filenames[title],  \n",
    "                            encoding='utf-8', errors='replace').read().lower()\n",
    "                for title in wilde_books_filenames}"
   ]
  },
  {
   "cell_type": "code",
   "execution_count": 76,
   "metadata": {
    "run_control": {
     "read_only": false
    }
   },
   "outputs": [
    {
     "data": {
      "text/plain": [
       "80416"
      ]
     },
     "execution_count": 76,
     "metadata": {},
     "output_type": "execute_result"
    }
   ],
   "source": [
    "wilde_books_all_tokens = [token \n",
    "                           for book in wilde_books \n",
    "                           for token in tokens(wilde_books[book])]\n",
    "len(wilde_books_all_tokens)"
   ]
  },
  {
   "cell_type": "code",
   "execution_count": 77,
   "metadata": {
    "run_control": {
     "read_only": false
    },
    "scrolled": true
   },
   "outputs": [
    {
     "data": {
      "text/plain": [
       "(he, had)         215\n",
       "(he, was)         161\n",
       "(he, is)           61\n",
       "(he, would)        61\n",
       "(he, said)         46\n",
       "(he, felt)         44\n",
       "(she, was)         41\n",
       "(she, is)          40\n",
       "(she, had)         39\n",
       "(he, answered)     33\n",
       "dtype: int64"
      ]
     },
     "execution_count": 77,
     "metadata": {},
     "output_type": "execute_result"
    }
   ],
   "source": [
    "gendered_bigrams_wilde = gendered_bigrams(wilde_books_all_tokens)\n",
    "gendered_bigrams_wilde[:10]"
   ]
  },
  {
   "cell_type": "code",
   "execution_count": 78,
   "metadata": {
    "run_control": {
     "read_only": false
    },
    "scrolled": false
   },
   "outputs": [
    {
     "data": {
      "text/html": [
       "<div>\n",
       "<table border=\"1\" class=\"dataframe\">\n",
       "  <thead>\n",
       "    <tr style=\"text-align: right;\">\n",
       "      <th></th>\n",
       "      <th>he</th>\n",
       "      <th>she</th>\n",
       "    </tr>\n",
       "  </thead>\n",
       "  <tbody>\n",
       "    <tr>\n",
       "      <th>answered</th>\n",
       "      <td>33</td>\n",
       "      <td>10</td>\n",
       "    </tr>\n",
       "    <tr>\n",
       "      <th>asked</th>\n",
       "      <td>16</td>\n",
       "      <td>4</td>\n",
       "    </tr>\n",
       "    <tr>\n",
       "      <th>could</th>\n",
       "      <td>31</td>\n",
       "      <td>5</td>\n",
       "    </tr>\n",
       "    <tr>\n",
       "      <th>cried</th>\n",
       "      <td>23</td>\n",
       "      <td>15</td>\n",
       "    </tr>\n",
       "    <tr>\n",
       "      <th>did</th>\n",
       "      <td>17</td>\n",
       "      <td>6</td>\n",
       "    </tr>\n",
       "  </tbody>\n",
       "</table>\n",
       "</div>"
      ],
      "text/plain": [
       "          he  she\n",
       "answered  33   10\n",
       "asked     16    4\n",
       "could     31    5\n",
       "cried     23   15\n",
       "did       17    6"
      ]
     },
     "execution_count": 78,
     "metadata": {},
     "output_type": "execute_result"
    }
   ],
   "source": [
    "useful_gender_counts_wilde = gender_counts(gendered_bigrams_wilde, lower_limit=10) \n",
    "useful_gender_counts_wilde.head()"
   ]
  },
  {
   "cell_type": "code",
   "execution_count": 81,
   "metadata": {
    "run_control": {
     "read_only": false
    },
    "scrolled": false
   },
   "outputs": [
    {
     "data": {
      "text/html": [
       "<div>\n",
       "<table border=\"1\" class=\"dataframe\">\n",
       "  <thead>\n",
       "    <tr style=\"text-align: right;\">\n",
       "      <th></th>\n",
       "      <th>he</th>\n",
       "      <th>she</th>\n",
       "      <th>logratio</th>\n",
       "      <th>abslogratio</th>\n",
       "    </tr>\n",
       "  </thead>\n",
       "  <tbody>\n",
       "    <tr>\n",
       "      <th>laughed</th>\n",
       "      <td>0.004331</td>\n",
       "      <td>0.027245</td>\n",
       "      <td>2.653113</td>\n",
       "      <td>2.653113</td>\n",
       "    </tr>\n",
       "    <tr>\n",
       "      <th>will</th>\n",
       "      <td>0.008557</td>\n",
       "      <td>0.046431</td>\n",
       "      <td>2.439931</td>\n",
       "      <td>2.439931</td>\n",
       "    </tr>\n",
       "    <tr>\n",
       "      <th>turned</th>\n",
       "      <td>0.022290</td>\n",
       "      <td>0.004221</td>\n",
       "      <td>-2.400750</td>\n",
       "      <td>2.400750</td>\n",
       "    </tr>\n",
       "    <tr>\n",
       "      <th>saw</th>\n",
       "      <td>0.017008</td>\n",
       "      <td>0.004221</td>\n",
       "      <td>-2.010567</td>\n",
       "      <td>2.010567</td>\n",
       "    </tr>\n",
       "    <tr>\n",
       "      <th>thought</th>\n",
       "      <td>0.014895</td>\n",
       "      <td>0.004221</td>\n",
       "      <td>-1.819202</td>\n",
       "      <td>1.819202</td>\n",
       "    </tr>\n",
       "    <tr>\n",
       "      <th>remembered</th>\n",
       "      <td>0.014895</td>\n",
       "      <td>0.004221</td>\n",
       "      <td>-1.819202</td>\n",
       "      <td>1.819202</td>\n",
       "    </tr>\n",
       "    <tr>\n",
       "      <th>got</th>\n",
       "      <td>0.013839</td>\n",
       "      <td>0.004221</td>\n",
       "      <td>-1.713074</td>\n",
       "      <td>1.713074</td>\n",
       "    </tr>\n",
       "    <tr>\n",
       "      <th>went</th>\n",
       "      <td>0.022290</td>\n",
       "      <td>0.008058</td>\n",
       "      <td>-1.467864</td>\n",
       "      <td>1.467864</td>\n",
       "    </tr>\n",
       "    <tr>\n",
       "      <th>is</th>\n",
       "      <td>0.064547</td>\n",
       "      <td>0.153876</td>\n",
       "      <td>1.253348</td>\n",
       "      <td>1.253348</td>\n",
       "    </tr>\n",
       "    <tr>\n",
       "      <th>cried</th>\n",
       "      <td>0.024403</td>\n",
       "      <td>0.057943</td>\n",
       "      <td>1.247574</td>\n",
       "      <td>1.247574</td>\n",
       "    </tr>\n",
       "  </tbody>\n",
       "</table>\n",
       "</div>"
      ],
      "text/plain": [
       "                  he       she  logratio  abslogratio\n",
       "laughed     0.004331  0.027245  2.653113     2.653113\n",
       "will        0.008557  0.046431  2.439931     2.439931\n",
       "turned      0.022290  0.004221 -2.400750     2.400750\n",
       "saw         0.017008  0.004221 -2.010567     2.010567\n",
       "thought     0.014895  0.004221 -1.819202     1.819202\n",
       "remembered  0.014895  0.004221 -1.819202     1.819202\n",
       "got         0.013839  0.004221 -1.713074     1.713074\n",
       "went        0.022290  0.008058 -1.467864     1.467864\n",
       "is          0.064547  0.153876  1.253348     1.253348\n",
       "cried       0.024403  0.057943  1.247574     1.247574"
      ]
     },
     "execution_count": 81,
     "metadata": {},
     "output_type": "execute_result"
    }
   ],
   "source": [
    "gender_ratio_wilde = find_ratios(useful_gender_counts_wilde)\n",
    "gender_ratio_wilde.sort_values('abslogratio', ascending=False).head(10)"
   ]
  },
  {
   "cell_type": "code",
   "execution_count": 82,
   "metadata": {
    "run_control": {
     "read_only": false
    },
    "scrolled": true
   },
   "outputs": [
    {
     "data": {
      "text/plain": [
       "30"
      ]
     },
     "execution_count": 82,
     "metadata": {},
     "output_type": "execute_result"
    }
   ],
   "source": [
    "plot_items_wilde = extract_plot_items(gender_ratio_wilde, window=15)\n",
    "len(plot_items_wilde)"
   ]
  },
  {
   "cell_type": "code",
   "execution_count": 84,
   "metadata": {
    "run_control": {
     "read_only": false
    },
    "scrolled": false
   },
   "outputs": [
    {
     "data": {
      "image/png": "[encoded data removed]",
      "text/plain": [
       "<matplotlib.figure.Figure at 0xaa3adeac>"
      ]
     },
     "metadata": {},
     "output_type": "display_data"
    }
   ],
   "source": [
    "gender_plot(plot_items_wilde, 'Oscar Wilde')"
   ]
  },
  {
   "cell_type": "markdown",
   "metadata": {},
   "source": [
    "Yes, the men have the typically emotion-related verbs such as 'remember' and 'think', while women lauch and cry (which could be \"cry out\" so much as sob)."
   ]
  },
  {
   "cell_type": "markdown",
   "metadata": {},
   "source": [
    "# Charles Dickens's books\n",
    "A typically male 19th century author, with many books with male protagonists."
   ]
  },
  {
   "cell_type": "code",
   "execution_count": 88,
   "metadata": {
    "run_control": {
     "read_only": false
    }
   },
   "outputs": [],
   "source": [
    "dickens_books = {title: open(dickens_books_filenames[title],  \n",
    "                            encoding='utf-8', errors='replace').read().lower()\n",
    "                for title in dickens_books_filenames}"
   ]
  },
  {
   "cell_type": "code",
   "execution_count": 90,
   "metadata": {
    "run_control": {
     "read_only": false
    }
   },
   "outputs": [
    {
     "data": {
      "text/plain": [
       "756590"
      ]
     },
     "execution_count": 90,
     "metadata": {},
     "output_type": "execute_result"
    }
   ],
   "source": [
    "dickens_books_all_tokens = [token \n",
    "                           for book in dickens_books \n",
    "                           for token in tokens(dickens_books[book])]\n",
    "len(dickens_books_all_tokens)"
   ]
  },
  {
   "cell_type": "code",
   "execution_count": 91,
   "metadata": {
    "run_control": {
     "read_only": false
    },
    "scrolled": false
   },
   "outputs": [
    {
     "data": {
      "text/plain": [
       "(he, had)       937\n",
       "(he, was)       895\n",
       "(she, was)      619\n",
       "(she, had)      490\n",
       "(he, said)      376\n",
       "(he, would)     296\n",
       "(he, is)        291\n",
       "(she, said)     188\n",
       "(she, would)    182\n",
       "(he, could)     165\n",
       "dtype: int64"
      ]
     },
     "execution_count": 91,
     "metadata": {},
     "output_type": "execute_result"
    }
   ],
   "source": [
    "gendered_bigrams_dickens = gendered_bigrams(dickens_books_all_tokens)\n",
    "gendered_bigrams_dickens[:10]"
   ]
  },
  {
   "cell_type": "code",
   "execution_count": 92,
   "metadata": {
    "run_control": {
     "read_only": false
    },
    "scrolled": true
   },
   "outputs": [
    {
     "data": {
      "text/html": [
       "<div>\n",
       "<table border=\"1\" class=\"dataframe\">\n",
       "  <thead>\n",
       "    <tr style=\"text-align: right;\">\n",
       "      <th></th>\n",
       "      <th>he</th>\n",
       "      <th>she</th>\n",
       "    </tr>\n",
       "  </thead>\n",
       "  <tbody>\n",
       "    <tr>\n",
       "      <th>added</th>\n",
       "      <td>33</td>\n",
       "      <td>12</td>\n",
       "    </tr>\n",
       "    <tr>\n",
       "      <th>ain</th>\n",
       "      <td>4</td>\n",
       "      <td>8</td>\n",
       "    </tr>\n",
       "    <tr>\n",
       "      <th>always</th>\n",
       "      <td>25</td>\n",
       "      <td>23</td>\n",
       "    </tr>\n",
       "    <tr>\n",
       "      <th>and</th>\n",
       "      <td>45</td>\n",
       "      <td>29</td>\n",
       "    </tr>\n",
       "    <tr>\n",
       "      <th>answered</th>\n",
       "      <td>37</td>\n",
       "      <td>44</td>\n",
       "    </tr>\n",
       "  </tbody>\n",
       "</table>\n",
       "</div>"
      ],
      "text/plain": [
       "          he  she\n",
       "added     33   12\n",
       "ain        4    8\n",
       "always    25   23\n",
       "and       45   29\n",
       "answered  37   44"
      ]
     },
     "execution_count": 92,
     "metadata": {},
     "output_type": "execute_result"
    }
   ],
   "source": [
    "useful_gender_counts_dickens = gender_counts(gendered_bigrams_dickens, lower_limit=10) \n",
    "useful_gender_counts_dickens.head()"
   ]
  },
  {
   "cell_type": "code",
   "execution_count": 93,
   "metadata": {
    "run_control": {
     "read_only": false
    },
    "scrolled": true
   },
   "outputs": [
    {
     "data": {
      "text/html": [
       "<div>\n",
       "<table border=\"1\" class=\"dataframe\">\n",
       "  <thead>\n",
       "    <tr style=\"text-align: right;\">\n",
       "      <th></th>\n",
       "      <th>he</th>\n",
       "      <th>she</th>\n",
       "      <th>logratio</th>\n",
       "      <th>abslogratio</th>\n",
       "    </tr>\n",
       "  </thead>\n",
       "  <tbody>\n",
       "    <tr>\n",
       "      <th>explained</th>\n",
       "      <td>0.001803</td>\n",
       "      <td>0.000276</td>\n",
       "      <td>-2.709410</td>\n",
       "      <td>2.709410</td>\n",
       "    </tr>\n",
       "    <tr>\n",
       "      <th>ate</th>\n",
       "      <td>0.001505</td>\n",
       "      <td>0.000276</td>\n",
       "      <td>-2.448758</td>\n",
       "      <td>2.448758</td>\n",
       "    </tr>\n",
       "    <tr>\n",
       "      <th>certainly</th>\n",
       "      <td>0.001505</td>\n",
       "      <td>0.000276</td>\n",
       "      <td>-2.448758</td>\n",
       "      <td>2.448758</td>\n",
       "    </tr>\n",
       "    <tr>\n",
       "      <th>cried</th>\n",
       "      <td>0.001207</td>\n",
       "      <td>0.005538</td>\n",
       "      <td>2.198074</td>\n",
       "      <td>2.198074</td>\n",
       "    </tr>\n",
       "    <tr>\n",
       "      <th>rejoined</th>\n",
       "      <td>0.002250</td>\n",
       "      <td>0.000526</td>\n",
       "      <td>-2.096066</td>\n",
       "      <td>2.096066</td>\n",
       "    </tr>\n",
       "    <tr>\n",
       "      <th>ran</th>\n",
       "      <td>0.000909</td>\n",
       "      <td>0.003283</td>\n",
       "      <td>1.852707</td>\n",
       "      <td>1.852707</td>\n",
       "    </tr>\n",
       "    <tr>\n",
       "      <th>resumed</th>\n",
       "      <td>0.002697</td>\n",
       "      <td>0.000777</td>\n",
       "      <td>-1.795628</td>\n",
       "      <td>1.795628</td>\n",
       "    </tr>\n",
       "    <tr>\n",
       "      <th>carried</th>\n",
       "      <td>0.001803</td>\n",
       "      <td>0.000526</td>\n",
       "      <td>-1.776524</td>\n",
       "      <td>1.776524</td>\n",
       "    </tr>\n",
       "    <tr>\n",
       "      <th>be</th>\n",
       "      <td>0.000760</td>\n",
       "      <td>0.002531</td>\n",
       "      <td>1.735808</td>\n",
       "      <td>1.735808</td>\n",
       "    </tr>\n",
       "    <tr>\n",
       "      <th>ain</th>\n",
       "      <td>0.000611</td>\n",
       "      <td>0.002030</td>\n",
       "      <td>1.732320</td>\n",
       "      <td>1.732320</td>\n",
       "    </tr>\n",
       "  </tbody>\n",
       "</table>\n",
       "</div>"
      ],
      "text/plain": [
       "                 he       she  logratio  abslogratio\n",
       "explained  0.001803  0.000276 -2.709410     2.709410\n",
       "ate        0.001505  0.000276 -2.448758     2.448758\n",
       "certainly  0.001505  0.000276 -2.448758     2.448758\n",
       "cried      0.001207  0.005538  2.198074     2.198074\n",
       "rejoined   0.002250  0.000526 -2.096066     2.096066\n",
       "ran        0.000909  0.003283  1.852707     1.852707\n",
       "resumed    0.002697  0.000777 -1.795628     1.795628\n",
       "carried    0.001803  0.000526 -1.776524     1.776524\n",
       "be         0.000760  0.002531  1.735808     1.735808\n",
       "ain        0.000611  0.002030  1.732320     1.732320"
      ]
     },
     "execution_count": 93,
     "metadata": {},
     "output_type": "execute_result"
    }
   ],
   "source": [
    "gender_ratio_dickens = find_ratios(useful_gender_counts_dickens)\n",
    "gender_ratio_dickens.sort_values('abslogratio', ascending=False).head(10)"
   ]
  },
  {
   "cell_type": "code",
   "execution_count": 94,
   "metadata": {
    "run_control": {
     "read_only": false
    },
    "scrolled": true
   },
   "outputs": [
    {
     "data": {
      "text/plain": [
       "30"
      ]
     },
     "execution_count": 94,
     "metadata": {},
     "output_type": "execute_result"
    }
   ],
   "source": [
    "plot_items_dickens = extract_plot_items(gender_ratio_dickens, window=15)\n",
    "len(plot_items_dickens)"
   ]
  },
  {
   "cell_type": "code",
   "execution_count": 95,
   "metadata": {
    "run_control": {
     "read_only": false
    },
    "scrolled": false
   },
   "outputs": [
    {
     "data": {
      "image/png": "[encoded data removed]",
      "text/plain": [
       "<matplotlib.figure.Figure at 0xad7d190c>"
      ]
     },
     "metadata": {},
     "output_type": "display_data"
    }
   ],
   "source": [
    "gender_plot(plot_items_dickens, 'Charles Dickens')"
   ]
  },
  {
   "cell_type": "markdown",
   "metadata": {},
   "source": [
    "Women cry and run, while men explain and are certain. Very stereotypical genered behaviour."
   ]
  },
  {
   "cell_type": "code",
   "execution_count": null,
   "metadata": {
    "collapsed": true
   },
   "outputs": [],
   "source": []
  }
 ],
 "metadata": {
  "kernelspec": {
   "display_name": "Python 3",
   "language": "python",
   "name": "python3"
  },
  "language_info": {
   "codemirror_mode": {
    "name": "ipython",
    "version": 3
   },
   "file_extension": ".py",
   "mimetype": "text/x-python",
   "name": "python",
   "nbconvert_exporter": "python",
   "pygments_lexer": "ipython3",
   "version": "3.5.3"
  }
 },
 "nbformat": 4,
 "nbformat_minor": 2
}
